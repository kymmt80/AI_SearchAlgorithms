{
 "cells": [
  {
   "cell_type": "markdown",
   "id": "53d84cd4",
   "metadata": {},
   "source": [
    "# Search Algorithms"
   ]
  },
  {
   "cell_type": "markdown",
   "id": "6eb25ce8",
   "metadata": {},
   "source": [
    "In this project, the aim is to solve a predefined problem using various search algorithms and compare their qualities. BFS, IDS and A* are the algorithms used for this problem."
   ]
  },
  {
   "cell_type": "markdown",
   "id": "9b5d0878",
   "metadata": {},
   "source": [
    "## Problem Description"
   ]
  },
  {
   "cell_type": "markdown",
   "id": "bb5d0df7",
   "metadata": {},
   "source": [
    "TBA"
   ]
  },
  {
   "cell_type": "markdown",
   "id": "3dddb706",
   "metadata": {},
   "source": [
    "## Modeling"
   ]
  },
  {
   "cell_type": "markdown",
   "id": "0f2a0c66",
   "metadata": {},
   "source": [
    "At first, the problem should be modeled as a graph so that the search algorithms can be applied to it in future steps. Each node representes one ditinct state of the map. Bellow, the components of the model is explained:\n",
    "\n",
    " - <b>Initial State:</b> The initial state of the map is given as input in this problem, and the player always starts at bottom left corner of the map.\n",
    " \n",
    " \n",
    " - <b>Actions:</b> At each step,one of the players can move either up, down, left or right. However, sometimes the players may be prevented from taking certain actions due to walls and obstacles.\n",
    " \n",
    " \n",
    " - <b>Transition Model:</b> TBA\n",
    " \n",
    " \n",
    " - <b>Goal State:</b> The goal state is when all of the players have reached the top right corner of the map and collected all potions in the map.\n",
    " \n",
    " \n",
    " - <b>Path Cost:</b> TBA\n",
    " "
   ]
  },
  {
   "cell_type": "markdown",
   "id": "bd650ab3",
   "metadata": {},
   "source": [
    "### Model Implementation"
   ]
  },
  {
   "cell_type": "code",
   "execution_count": 1,
   "id": "443fb19e",
   "metadata": {},
   "outputs": [],
   "source": [
    "PLAYER='P'\n",
    "POTION='M'\n",
    "PILL='D'\n",
    "OBSTACLE='O'"
   ]
  },
  {
   "cell_type": "markdown",
   "id": "b5a67168",
   "metadata": {},
   "source": [
    " - <b>Initiat State:</b>"
   ]
  },
  {
   "cell_type": "code",
   "execution_count": 2,
   "id": "ae0600fe",
   "metadata": {},
   "outputs": [],
   "source": [
    "def read_initial_state(file_name):\n",
    "    file = open(file_name)\n",
    "    row,col=file.readline().split()\n",
    "    potion_count,pill_count=file.readline().split()\n",
    "    initial_map={\"row\": int(row) , \"col\": int(col) , \"potion_count\": int(potion_count), \"ploc\":[]}\n",
    "    for _ in range(int(potion_count)):\n",
    "        x,y=file.readline().split()\n",
    "        initial_map[(int(x),int(y))]=POTION\n",
    "    for _ in range(int(pill_count)):\n",
    "        x,y=file.readline().split()\n",
    "        initial_map[(int(x),int(y))]=PILL\n",
    "    obstacle_count=file.readline()\n",
    "    for _ in range(int(obstacle_count)):\n",
    "        x,y=file.readline().split()\n",
    "        initial_map[(int(x),int(y))]=OBSTACLE\n",
    "    initial_map[\"ploc\"].append((0,0))\n",
    "    return initial_map"
   ]
  },
  {
   "cell_type": "markdown",
   "id": "88bbfa27",
   "metadata": {},
   "source": [
    " - <b>Actions:</b>"
   ]
  },
  {
   "cell_type": "code",
   "execution_count": 95,
   "id": "2ad1ff73",
   "metadata": {},
   "outputs": [],
   "source": [
    "UP=(1,0)\n",
    "DOWN=(-1,0)\n",
    "RIGHT=(0,1)\n",
    "LEFT=(0,-1)\n",
    "ACTIONS=[UP,DOWN,LEFT,RIGHT]\n",
    "ACT_DICT={UP:\"U\",DOWN:\"D\",RIGHT:\"R\",LEFT:\"L\"}"
   ]
  },
  {
   "cell_type": "markdown",
   "id": "83309560",
   "metadata": {},
   "source": [
    " - <b>Transition Model:</b>"
   ]
  },
  {
   "cell_type": "code",
   "execution_count": 73,
   "id": "abd2db32",
   "metadata": {},
   "outputs": [],
   "source": [
    "import copy as cp\n",
    "def not_in_range(loc,loc_range):\n",
    "    return loc[0]>=loc_range[0] or loc[1]>=loc_range[1] or loc[0]<0 or loc[1]<0\n",
    "    \n",
    "\n",
    "def move(current_state,player_number,direction):\n",
    "    current_state=cp.deepcopy(current_state)\n",
    "    current_location=current_state[\"ploc\"][player_number]\n",
    "    future_location=(current_location[0]+direction[0],current_location[1]+direction[1])\n",
    "    if(future_location in current_state):\n",
    "        if(current_state[future_location]==POTION):\n",
    "            current_state[\"potion_count\"]-=1;\n",
    "        elif(current_state[future_location]==PILL):\n",
    "            current_state[\"ploc\"].append((current_state[\"row\"]-1,0))\n",
    "        elif(current_state[future_location]==OBSTACLE):\n",
    "            return 0\n",
    "    elif(not_in_range(future_location,(current_state[\"row\"],current_state[\"col\"]))):\n",
    "        return 0\n",
    "    current_location=current_state[\"ploc\"][player_number]=future_location\n",
    "    if(current_location in current_state):\n",
    "        del current_state[current_location]\n",
    "    return current_state"
   ]
  },
  {
   "cell_type": "code",
   "execution_count": 5,
   "id": "65845ba1",
   "metadata": {},
   "outputs": [],
   "source": [
    "def is_goal_state(state):\n",
    "    for loc in state[\"ploc\"]:\n",
    "        if(loc!=(state[\"row\"]-1,state[\"col\"]-1)):\n",
    "            return False\n",
    "    if(state[\"potion_count\"]==0):\n",
    "        return True\n",
    "    else:\n",
    "        return False"
   ]
  },
  {
   "cell_type": "code",
   "execution_count": 7,
   "id": "b445ffca",
   "metadata": {},
   "outputs": [
    {
     "name": "stdout",
     "output_type": "stream",
     "text": [
      "{'row': 4, 'col': 4, 'potion_count': 1, 'ploc': [(1, 3), (0, 0)], (2, 0): 'M', (1, 2): 'O'}\n"
     ]
    }
   ],
   "source": [
    "import copy as cp\n",
    "c=read_initial_state(\"Tests/test1.in\")\n",
    "d=cp.deepcopy(c)\n",
    "d=move(cp.deepcopy(d),0,(0,1))\n",
    "d=move(cp.deepcopy(d),0,(0,1))\n",
    "d=move(cp.deepcopy(d),0,(0,1))\n",
    "d=move(cp.deepcopy(d),0,(1,0))\n",
    "print(d)"
   ]
  },
  {
   "cell_type": "markdown",
   "id": "bd69140f",
   "metadata": {},
   "source": [
    "# BFS"
   ]
  },
  {
   "cell_type": "markdown",
   "id": "1988be04",
   "metadata": {},
   "source": [
    "Explainations TBA"
   ]
  },
  {
   "cell_type": "code",
   "execution_count": 96,
   "id": "d8ddf52a",
   "metadata": {},
   "outputs": [],
   "source": [
    "def BFS(file_address):\n",
    "    i=0;\n",
    "    frontier_queue=[]\n",
    "    visited_states=[]\n",
    "    frontier_queue.append(read_initial_state(file_address))\n",
    "    visited_states.append(cp.deepcopy(frontier_queue[0]))\n",
    "    frontier_queue[0][\"order\"]=\"\"\n",
    "    while(frontier_queue):\n",
    "        #if(i==3000):\n",
    "        #    break\n",
    "        #i+=1\n",
    "        #print(len(frontier_queue))\n",
    "        current_state=frontier_queue.pop(0)\n",
    "        #if (current_state in visited_states):\n",
    "        #    continue\n",
    "        for player in range(len(current_state[\"ploc\"])):\n",
    "            for action in ACTIONS:\n",
    "                new_state=move(current_state,player,action)\n",
    "                if(new_state==0):\n",
    "                    continue\n",
    "                new_state.pop(\"order\",None)  \n",
    "                if((new_state in visited_states)):\n",
    "                    continue\n",
    "                #print(\"\\n!!\",visited_states,\"!!\\n\")\n",
    "                #print(\"*\",new_state)\n",
    "                visited_states.append(cp.deepcopy(new_state))\n",
    "                new_state[\"order\"]=current_state[\"order\"]+\" \"+str(player)+ACT_DICT[action]\n",
    "                if(is_goal_state(new_state)):\n",
    "                    return new_state[\"order\"]\n",
    "                frontier_queue.append(new_state) \n",
    "    return 0"
   ]
  },
  {
   "cell_type": "code",
   "execution_count": 99,
   "id": "02f8de91",
   "metadata": {},
   "outputs": [
    {
     "ename": "KeyboardInterrupt",
     "evalue": "",
     "output_type": "error",
     "traceback": [
      "\u001b[0;31m---------------------------------------------------------------------------\u001b[0m",
      "\u001b[0;31mKeyboardInterrupt\u001b[0m                         Traceback (most recent call last)",
      "\u001b[0;32m/tmp/ipykernel_234506/3385197384.py\u001b[0m in \u001b[0;36m<module>\u001b[0;34m\u001b[0m\n\u001b[0;32m----> 1\u001b[0;31m \u001b[0mprint\u001b[0m\u001b[0;34m(\u001b[0m\u001b[0mBFS\u001b[0m\u001b[0;34m(\u001b[0m\u001b[0;34m\"Tests/test3.in\"\u001b[0m\u001b[0;34m)\u001b[0m\u001b[0;34m)\u001b[0m\u001b[0;34m\u001b[0m\u001b[0;34m\u001b[0m\u001b[0m\n\u001b[0m",
      "\u001b[0;32m/tmp/ipykernel_234506/1687327343.py\u001b[0m in \u001b[0;36mBFS\u001b[0;34m(file_address)\u001b[0m\n\u001b[1;32m     20\u001b[0m                     \u001b[0;32mcontinue\u001b[0m\u001b[0;34m\u001b[0m\u001b[0;34m\u001b[0m\u001b[0m\n\u001b[1;32m     21\u001b[0m                 \u001b[0mnew_state\u001b[0m\u001b[0;34m.\u001b[0m\u001b[0mpop\u001b[0m\u001b[0;34m(\u001b[0m\u001b[0;34m\"order\"\u001b[0m\u001b[0;34m,\u001b[0m\u001b[0;32mNone\u001b[0m\u001b[0;34m)\u001b[0m\u001b[0;34m\u001b[0m\u001b[0;34m\u001b[0m\u001b[0m\n\u001b[0;32m---> 22\u001b[0;31m                 \u001b[0;32mif\u001b[0m\u001b[0;34m(\u001b[0m\u001b[0;34m(\u001b[0m\u001b[0mnew_state\u001b[0m \u001b[0;32min\u001b[0m \u001b[0mvisited_states\u001b[0m\u001b[0;34m)\u001b[0m\u001b[0;34m)\u001b[0m\u001b[0;34m:\u001b[0m\u001b[0;34m\u001b[0m\u001b[0;34m\u001b[0m\u001b[0m\n\u001b[0m\u001b[1;32m     23\u001b[0m                     \u001b[0;32mcontinue\u001b[0m\u001b[0;34m\u001b[0m\u001b[0;34m\u001b[0m\u001b[0m\n\u001b[1;32m     24\u001b[0m                 \u001b[0;31m#print(\"\\n!!\",visited_states,\"!!\\n\")\u001b[0m\u001b[0;34m\u001b[0m\u001b[0;34m\u001b[0m\u001b[0;34m\u001b[0m\u001b[0m\n",
      "\u001b[0;31mKeyboardInterrupt\u001b[0m: "
     ]
    }
   ],
   "source": [
    "print(BFS(\"Tests/test3.in\"))"
   ]
  },
  {
   "cell_type": "code",
   "execution_count": null,
   "id": "68c496d5",
   "metadata": {},
   "outputs": [],
   "source": []
  },
  {
   "cell_type": "code",
   "execution_count": null,
   "id": "16fd80a3",
   "metadata": {},
   "outputs": [],
   "source": []
  }
 ],
 "metadata": {
  "kernelspec": {
   "display_name": "Python 3 (ipykernel)",
   "language": "python",
   "name": "python3"
  },
  "language_info": {
   "codemirror_mode": {
    "name": "ipython",
    "version": 3
   },
   "file_extension": ".py",
   "mimetype": "text/x-python",
   "name": "python",
   "nbconvert_exporter": "python",
   "pygments_lexer": "ipython3",
   "version": "3.8.10"
  }
 },
 "nbformat": 4,
 "nbformat_minor": 5
}
