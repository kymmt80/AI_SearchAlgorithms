{
 "cells": [
  {
   "cell_type": "markdown",
   "id": "53d84cd4",
   "metadata": {},
   "source": [
    "# Search Algorithms"
   ]
  },
  {
   "cell_type": "markdown",
   "id": "d1ff03b3",
   "metadata": {},
   "source": [
    "In this project, the aim is to solve a predefined problem using various search algorithms and compare their qualities. BFS, IDS and A* are the algorithms used for this problem."
   ]
  },
  {
   "cell_type": "markdown",
   "id": "e2238735",
   "metadata": {},
   "source": [
    "## Problem Description"
   ]
  },
  {
   "cell_type": "markdown",
   "id": "5f8b84cd",
   "metadata": {},
   "source": [
    "A player starts at location (0,0) of a $n\\times m$ map. some cells are blocked by obstacles. at each steps, the player can choose to move up, down, left or right if its path is not blocked by walls or obstacles. each cell may contain one of the following elements:\n",
    "\n",
    "  - <b>Potion:</b> When player enters a cell with potion, he collects the potion.\n",
    "    \n",
    "    \n",
    "  - <b>Pill:</b> When player enters a cell with pill, he consumes the pill and a new player appears at location (n-1,0). afterwards, only one of the players may move at each step \n",
    "    \n",
    "The goal is to gather all players at location (n-1,m-1) and collect all of the potions in the map."
   ]
  },
  {
   "cell_type": "markdown",
   "id": "95f2cec4",
   "metadata": {},
   "source": [
    "## Modeling"
   ]
  },
  {
   "cell_type": "markdown",
   "id": "d58be7f9",
   "metadata": {},
   "source": [
    "At first, the problem should be modeled as a graph so that the search algorithms can be applied to it in future steps. Each node representes one ditinct state of the map. Bellow, the components of the model is explained:\n",
    "\n",
    " - <b>Initial State:</b> The initial state of the map is given as input in this problem, and the player always starts at bottom left corner of the map.\n",
    " \n",
    " \n",
    " - <b>Actions:</b> At each step,one of the players can move either up, down, left or right. However, sometimes the players may be prevented from taking certain actions due to walls and obstacles.\n",
    " \n",
    " \n",
    " - <b>Transition Model:</b> A state is recognized by this properties: 1- location of each player, 2- remaining potions, 3-location of each component(potion-pill-obstacle..) our transition model takes a state and an action as input and determines the next state properties using the rules described in problem description. if an action is impossible to take function returns 0 as output. \n",
    " \n",
    " \n",
    " - <b>Goal State:</b> The goal state is when all of the players have reached the top right corner of the map and collected all potions in the map.\n",
    " \n",
    " \n",
    " - <b>Path Cost:</b> In this problem, the cost of all actions are equal\n",
    " "
   ]
  },
  {
   "cell_type": "markdown",
   "id": "39afd0a0",
   "metadata": {},
   "source": [
    "### Model Implementation"
   ]
  },
  {
   "cell_type": "code",
   "execution_count": 259,
   "id": "23c0c18b",
   "metadata": {},
   "outputs": [],
   "source": [
    "import time\n",
    "import copy as cp\n",
    "import heapq as hp\n",
    "PLAYER='P'\n",
    "POTION='M'\n",
    "PILL='D'\n",
    "OBSTACLE='O'"
   ]
  },
  {
   "cell_type": "markdown",
   "id": "da41a574",
   "metadata": {},
   "source": [
    "- <b>States:</b> we use dictionary to store the properties of each state. we choose dictionary because of its simplicity and built-in functions\n",
    "\n",
    "<b>note:</b> Even though in was possible to obtain the number of potions by location of each component, we choose to store it separately to simplify some functions and avoid possible time consuming calculations."
   ]
  },
  {
   "cell_type": "markdown",
   "id": "f16430b4",
   "metadata": {},
   "source": [
    " - <b>Initiat State:</b>"
   ]
  },
  {
   "cell_type": "code",
   "execution_count": 2,
   "id": "ad634ae0",
   "metadata": {},
   "outputs": [],
   "source": [
    "def read_initial_state(file_name):\n",
    "    file = open(file_name)\n",
    "    row,col=file.readline().split()\n",
    "    potion_count,pill_count=file.readline().split()\n",
    "    initial_map={\"row\": int(row) , \"col\": int(col) , \"potion_count\": int(potion_count), \"ploc\":[]}\n",
    "    for _ in range(int(potion_count)):\n",
    "        x,y=file.readline().split()\n",
    "        initial_map[(int(x),int(y))]=POTION\n",
    "    for _ in range(int(pill_count)):\n",
    "        x,y=file.readline().split()\n",
    "        initial_map[(int(x),int(y))]=PILL\n",
    "    obstacle_count=file.readline()\n",
    "    for _ in range(int(obstacle_count)):\n",
    "        x,y=file.readline().split()\n",
    "        initial_map[(int(x),int(y))]=OBSTACLE\n",
    "    initial_map[\"ploc\"].append((0,0))\n",
    "    return initial_map"
   ]
  },
  {
   "cell_type": "markdown",
   "id": "a9c915aa",
   "metadata": {},
   "source": [
    " - <b>Actions:</b>"
   ]
  },
  {
   "cell_type": "code",
   "execution_count": 3,
   "id": "f00eafab",
   "metadata": {},
   "outputs": [],
   "source": [
    "UP=(1,0)\n",
    "DOWN=(-1,0)\n",
    "RIGHT=(0,1)\n",
    "LEFT=(0,-1)\n",
    "ACTIONS=[UP,DOWN,LEFT,RIGHT]\n",
    "ACT_DICT={UP:\"U\",DOWN:\"D\",RIGHT:\"R\",LEFT:\"L\"}"
   ]
  },
  {
   "cell_type": "markdown",
   "id": "812605f2",
   "metadata": {},
   "source": [
    " - <b>Transition Model:</b>"
   ]
  },
  {
   "cell_type": "code",
   "execution_count": 4,
   "id": "0ade879b",
   "metadata": {},
   "outputs": [],
   "source": [
    "def not_in_range(loc,loc_range):\n",
    "    return loc[0]>=loc_range[0] or loc[1]>=loc_range[1] or loc[0]<0 or loc[1]<0\n",
    "    \n",
    "\n",
    "def move(current_state,player_number,direction):\n",
    "    current_state=cp.deepcopy(current_state)\n",
    "    current_location=current_state[\"ploc\"][player_number]\n",
    "    future_location=(current_location[0]+direction[0],current_location[1]+direction[1])\n",
    "    if(future_location in current_state):\n",
    "        if(current_state[future_location]==POTION):\n",
    "            current_state[\"potion_count\"]-=1;\n",
    "        elif(current_state[future_location]==PILL):\n",
    "            current_state[\"ploc\"].append((current_state[\"row\"]-1,0))\n",
    "        elif(current_state[future_location]==OBSTACLE):\n",
    "            return 0\n",
    "    elif(not_in_range(future_location,(current_state[\"row\"],current_state[\"col\"]))):\n",
    "        return 0\n",
    "    current_location=current_state[\"ploc\"][player_number]=future_location\n",
    "    if(current_location in current_state):\n",
    "        del current_state[current_location]\n",
    "    return current_state"
   ]
  },
  {
   "cell_type": "markdown",
   "id": "20d7d8a2",
   "metadata": {},
   "source": [
    "- <b>Goal State:</b>"
   ]
  },
  {
   "cell_type": "code",
   "execution_count": 5,
   "id": "1b958cd1",
   "metadata": {},
   "outputs": [],
   "source": [
    "def is_goal_state(state):\n",
    "    for loc in state[\"ploc\"]:\n",
    "        if(loc!=(state[\"row\"]-1,state[\"col\"]-1)):\n",
    "            return False\n",
    "    if(state[\"potion_count\"]==0):\n",
    "        return True\n",
    "    else:\n",
    "        return False"
   ]
  },
  {
   "cell_type": "markdown",
   "id": "db2979ac",
   "metadata": {},
   "source": [
    "# Breadth First Search (BFS)"
   ]
  },
  {
   "cell_type": "markdown",
   "id": "a613857d",
   "metadata": {},
   "source": [
    "## Algorithm\n",
    "bellow the BFS algorithm is implemented. a dictionary is used to store explored states because it is faster to check the existance of a key in dictionary. Since a dictionary cannot be used as a key, we define a function \"encode\" that takes an state and turn it into hashable format and returns the hashed dictionary.\n",
    "## Pros and Cons\n",
    "pros:\n",
    " - Always returns the optimal solution\n",
    " \n",
    "cons:\n",
    " - Requires more space than IDS (of order O($b^m$))\n",
    " - Visits more states and is slower than A*(depends on heuristic)"
   ]
  },
  {
   "cell_type": "markdown",
   "id": "8a195e0a",
   "metadata": {},
   "source": [
    "## Implementation"
   ]
  },
  {
   "cell_type": "code",
   "execution_count": 245,
   "id": "2f715ee7",
   "metadata": {},
   "outputs": [],
   "source": [
    "def encode(state):\n",
    "    encoded=cp.deepcopy(state)\n",
    "    encoded.pop(\"ploc\",None)\n",
    "    encoded.pop(\"order\",None)\n",
    "    encoded.pop(\"row\",None)\n",
    "    encoded.pop(\"col\",None)\n",
    "    for player in range(len(state[\"ploc\"])):\n",
    "        encoded[player]=state[\"ploc\"][player]\n",
    "    return hash(tuple(encoded.items()))\n",
    "\n",
    "def BFS(file_address):\n",
    "    total_visited_states=1;\n",
    "    frontier_queue=[]\n",
    "    visited_states={}\n",
    "    frontier_queue.append(read_initial_state(file_address))\n",
    "    visited_states[encode(frontier_queue[0])]=True\n",
    "    frontier_queue[0][\"order\"]=\"\"\n",
    "    while(frontier_queue):\n",
    "        current_state=frontier_queue.pop(0)\n",
    "        for player in range(len(current_state[\"ploc\"])):\n",
    "            for action in ACTIONS:\n",
    "                new_state=move(current_state,player,action)\n",
    "                if(new_state==0):\n",
    "                    continue\n",
    "                total_visited_states+=1\n",
    "                if((encode(new_state) in visited_states)):\n",
    "                    continue\n",
    "                #print(encode(new_state))\n",
    "                visited_states[encode(new_state)]=True\n",
    "                new_state[\"order\"]=current_state[\"order\"]+\" \"+str(player)+ACT_DICT[action]\n",
    "                if(is_goal_state(new_state)):\n",
    "                    return (new_state[\"order\"],total_visited_states)\n",
    "                frontier_queue.append(new_state) \n",
    "    return (0,0)"
   ]
  },
  {
   "cell_type": "markdown",
   "id": "668a61cc",
   "metadata": {},
   "source": [
    "## Tests"
   ]
  },
  {
   "cell_type": "code",
   "execution_count": 247,
   "id": "b3a92f55",
   "metadata": {},
   "outputs": [
    {
     "name": "stdout",
     "output_type": "stream",
     "text": [
      "Path=  0R 0R 0R 0U 0U 0U 1D 1U 1R 1R 1R \n",
      "average time=  0.1599898338317871 \n",
      "visited_states= 3909\n"
     ]
    }
   ],
   "source": [
    "tic=time.time()\n",
    "BFS(\"Tests/test1.in\")\n",
    "toc=time.time()\n",
    "time1=toc-tic\n",
    "tic=time.time()\n",
    "BFS(\"Tests/test1.in\")\n",
    "toc=time.time()\n",
    "time2=toc-tic\n",
    "tic=time.time()\n",
    "result_test1,visited_states1 =BFS(\"Tests/test1.in\")\n",
    "toc=time.time()\n",
    "time3=toc-tic\n",
    "average_time_BFS_test1=(time1+time2+time3)/3\n",
    "print(\"Path=\" ,result_test1, \"\\naverage time= \",average_time_BFS_test1,\"\\nvisited_states=\",visited_states1)"
   ]
  },
  {
   "cell_type": "code",
   "execution_count": 249,
   "id": "9d4cd6a1",
   "metadata": {},
   "outputs": [
    {
     "name": "stdout",
     "output_type": "stream",
     "text": [
      "Path=  0U 0U 0R 0R 0D 0U 0U 0R \n",
      "average time=  0.43068138758341473 \n",
      "visited_states= 6711\n"
     ]
    }
   ],
   "source": [
    "tic=time.time()\n",
    "BFS(\"Tests/test2.in\")\n",
    "toc=time.time()\n",
    "time1=toc-tic\n",
    "tic=time.time()\n",
    "BFS(\"Tests/test2.in\")\n",
    "toc=time.time()\n",
    "time2=toc-tic\n",
    "tic=time.time()\n",
    "result_test2,visited_states2=BFS(\"Tests/test2.in\")\n",
    "toc=time.time()\n",
    "time3=toc-tic\n",
    "average_time_BFS_test2=(time1+time2+time3)/3\n",
    "print(\"Path=\" ,result_test2, \"\\naverage time= \",average_time_BFS_test2,\"\\nvisited_states=\",visited_states2)"
   ]
  },
  {
   "cell_type": "code",
   "execution_count": 250,
   "id": "9beb34fe",
   "metadata": {},
   "outputs": [
    {
     "name": "stdout",
     "output_type": "stream",
     "text": [
      "Path=  0U 0U 0R 0R 0D 0R 0R 0R 0U 0U 0U 0U 1R 1R 1R 1D 1U 1R 1R \n",
      "average time=  40.913156827290855 \n",
      "visited_states= 557673\n"
     ]
    }
   ],
   "source": [
    "tic=time.time()\n",
    "BFS(\"Tests/test3.in\")\n",
    "toc=time.time()\n",
    "time1=toc-tic\n",
    "tic=time.time()\n",
    "BFS(\"Tests/test3.in\")\n",
    "toc=time.time()\n",
    "time2=toc-tic\n",
    "tic=time.time()\n",
    "result_test3,visited_states3=BFS(\"Tests/test3.in\")\n",
    "toc=time.time()\n",
    "time3=toc-tic\n",
    "average_time_BFS_test3=(time1+time2+time3)/3\n",
    "print(\"Path=\" ,result_test3, \"\\naverage time= \",average_time_BFS_test3,\"\\nvisited_states=\",visited_states3)"
   ]
  },
  {
   "cell_type": "markdown",
   "id": "3ecb1ae6",
   "metadata": {},
   "source": [
    "## Overall Results\n",
    "|property|test1|test2|test3|\n",
    "|:-:|:---:|:---:|:---:|\n",
    "|**Time**          |160ms|431ms|40.913s|\n",
    "|**States Visited**|3909|6711|557673|\n",
    "|**Path Depth** |11|8|19|"
   ]
  },
  {
   "cell_type": "markdown",
   "id": "846d2ef5",
   "metadata": {},
   "source": [
    "# Iterative Deepening Search (IDS)"
   ]
  },
  {
   "cell_type": "markdown",
   "id": "c1ddf11b",
   "metadata": {},
   "source": [
    "## Algorithm\n",
    "bellow the IDS algorithm is implemented. \"encode\" function from BFS is used here as well. the IDS functions uses DFS as a subroutine, it runs DFA but specifies the max depth DFA should explore and starting from 1, increases the depth after each run untill goal state is reached  \n",
    "## Pros and Cons\n",
    "pros:\n",
    " - Always returns the optimal solution\n",
    " - Uses less space than A* and BFS\n",
    " \n",
    "cons:\n",
    " - Visits more states and is slower than A*(depends on heuristic)"
   ]
  },
  {
   "cell_type": "markdown",
   "id": "143834a8",
   "metadata": {},
   "source": [
    "## Implementation"
   ]
  },
  {
   "cell_type": "code",
   "execution_count": 254,
   "id": "427d6eb1",
   "metadata": {},
   "outputs": [],
   "source": [
    "def DFS(initial_state,max_level):\n",
    "    total_visited_states=1;\n",
    "    frontier_queue=[]\n",
    "    visited_states={}\n",
    "    frontier_queue.append([0,initial_state])\n",
    "    #visited_states[encode(frontier_queue[0])]=1\n",
    "    initial_state[\"order\"]=\"\"\n",
    "    while(frontier_queue):\n",
    "        added_level,current_state=frontier_queue.pop()\n",
    "        if((encode(current_state) in visited_states)):\n",
    "            if(visited_states[encode(current_state)]<=added_level):\n",
    "                continue\n",
    "        visited_states[encode(current_state)]=added_level\n",
    "        for player in range(len(current_state[\"ploc\"])):\n",
    "            for action in ACTIONS:\n",
    "                new_state=move(current_state,player,action)\n",
    "                if(new_state==0):\n",
    "                    continue\n",
    "                new_state[\"order\"]=current_state[\"order\"]+\" \"+str(player)+ACT_DICT[action]\n",
    "                if(is_goal_state(new_state)):\n",
    "                    return (new_state[\"order\"],total_visited_states)\n",
    "                total_visited_states+=1;\n",
    "                if(added_level+1<max_level):\n",
    "                    frontier_queue.append([added_level+1,new_state]) \n",
    "    return (0,total_visited_states)\n",
    "def IDS(file_address):\n",
    "    total_states=0\n",
    "    level=1\n",
    "    start_state=read_initial_state(file_address)\n",
    "    start_state[\"order\"]=\"\"\n",
    "    res,total=DFS(start_state,level)\n",
    "    total_states+=total\n",
    "    while res==0:\n",
    "        #print(level)\n",
    "        level+=1\n",
    "        res,total=DFS(start_state,level)\n",
    "        total_states+=total\n",
    "    return (res,total_states)"
   ]
  },
  {
   "cell_type": "code",
   "execution_count": 256,
   "id": "58f3d457",
   "metadata": {
    "scrolled": true
   },
   "outputs": [
    {
     "name": "stdout",
     "output_type": "stream",
     "text": [
      "Path=  0R 1D 1R 1R 1R 1U 0R 0R 0U 0U 0U \n",
      "average time=  0.9571897983551025 \n",
      "visited_states= 22814\n"
     ]
    }
   ],
   "source": [
    "tic=time.time()\n",
    "IDS(\"Tests/test1.in\")\n",
    "toc=time.time()\n",
    "time1=toc-tic\n",
    "tic=time.time()\n",
    "IDS(\"Tests/test1.in\")\n",
    "toc=time.time()\n",
    "time2=toc-tic\n",
    "tic=time.time()\n",
    "result_test1,visited_states1 =IDS(\"Tests/test1.in\")\n",
    "toc=time.time()\n",
    "time3=toc-tic\n",
    "average_time_IDS_test1=(time1+time2+time3)/3\n",
    "print(\"Path=\" ,result_test1, \"\\naverage time= \",average_time_IDS_test1,\"\\nvisited_states=\",visited_states1)"
   ]
  },
  {
   "cell_type": "code",
   "execution_count": 257,
   "id": "e1d75419",
   "metadata": {},
   "outputs": [
    {
     "name": "stdout",
     "output_type": "stream",
     "text": [
      "Path=  0U 0U 0R 0R 0D 0U 0R 0U \n",
      "average time=  1.1417025725046794 \n",
      "visited_states= 25919\n"
     ]
    }
   ],
   "source": [
    "tic=time.time()\n",
    "IDS(\"Tests/test2.in\")\n",
    "toc=time.time()\n",
    "time1=toc-tic\n",
    "tic=time.time()\n",
    "IDS(\"Tests/test2.in\")\n",
    "toc=time.time()\n",
    "time2=toc-tic\n",
    "tic=time.time()\n",
    "result_test2,visited_states2 =IDS(\"Tests/test2.in\")\n",
    "toc=time.time()\n",
    "time3=toc-tic\n",
    "average_time_IDS_test2=(time1+time2+time3)/3\n",
    "print(\"Path=\" ,result_test2, \"\\naverage time= \",average_time_IDS_test2,\"\\nvisited_states=\",visited_states2)"
   ]
  },
  {
   "cell_type": "code",
   "execution_count": 258,
   "id": "2c44c11a",
   "metadata": {},
   "outputs": [
    {
     "name": "stdout",
     "output_type": "stream",
     "text": [
      "Path=  0U 0U 0R 0R 1R 1R 1R 1D 1R 1R 1U 0D 0R 0R 0R 0U 0U 0U 0U \n",
      "average time=  139.5229388078054 \n",
      "visited_states= 1809160\n"
     ]
    }
   ],
   "source": [
    "tic=time.time()\n",
    "IDS(\"Tests/test3.in\")\n",
    "toc=time.time()\n",
    "time1=toc-tic\n",
    "tic=time.time()\n",
    "IDS(\"Tests/test3.in\")\n",
    "toc=time.time()\n",
    "time2=toc-tic\n",
    "tic=time.time()\n",
    "result_test3,visited_states3=IDS(\"Tests/test3.in\")\n",
    "toc=time.time()\n",
    "time3=toc-tic\n",
    "average_time_IDS_test3=(time1+time2+time3)/3\n",
    "print(\"Path=\" ,result_test3, \"\\naverage time= \",average_time_IDS_test3,\"\\nvisited_states=\",visited_states3)"
   ]
  },
  {
   "cell_type": "markdown",
   "id": "4cbf0f8d",
   "metadata": {},
   "source": [
    "## Overall Results\n",
    "|property|test1|test2|test3|\n",
    "|:-:|:---:|:---:|:---:|\n",
    "|**Time**          |950ms|1.142s|140.522s|\n",
    "|**States Visited**|22814|25919|1809160|\n",
    "|**Path Depth** |11|8|19|"
   ]
  },
  {
   "cell_type": "markdown",
   "id": "bd9b3576",
   "metadata": {},
   "source": [
    "# A*"
   ]
  },
  {
   "cell_type": "markdown",
   "id": "452143f6",
   "metadata": {},
   "source": [
    "## Algorithm\n",
    "bellow the A* algorithm is implemented. the method used to keep the track of visited states is similar to previous parts. For this algorithm, a heap is used to extract the state with minimum cost at each step. the cost of a state is defined as follows:\n",
    "\n",
    "$$f(n)=g(n)+h(n)$$\n",
    "\n",
    "where $h(n)$ is the heuristic function that estimates the cost to reach the goal and $g(n)$ is the cost of reaching n from start state.\n",
    "\n",
    "### heuristic function\n",
    "\n",
    "for A* algorithm to be optimal, our heuristic function should be consistent. we define the following heuristic function and prove its consistency:\n",
    "$$h(n)=\\sum_{player}d_{Manhattan}(locatin(player),(row-1,col-1))$$\n",
    "\n",
    "## Pros and Cons\n",
    "pros:\n",
    " - Always returns the optimal solution\n",
    " - Uses less space than A* and BFS\n",
    " \n",
    "cons:\n",
    " - Visits more states and is slower than A*(depends on heuristic)"
   ]
  },
  {
   "cell_type": "code",
   "execution_count": 263,
   "id": "9ddd8664",
   "metadata": {},
   "outputs": [],
   "source": [
    "def heuristic(state):\n",
    "    player_steps=0\n",
    "    min_row=state[\"row\"]-1\n",
    "    min_col=state[\"col\"]-1\n",
    "    col=min_col\n",
    "    row=min_row\n",
    "    for loc in state[\"ploc\"]:\n",
    "        player_steps=row-loc[0]+col-loc[1]\n",
    "    #for key,val in state.items():\n",
    "     #   if (type(key)==tuple):\n",
    "     #       if(val==POTION):\n",
    "     #           row=min_row-key[0]\n",
    "     #           col=min_col-key[1]\n",
    "     #           if col<0: col=0\n",
    "     #           if row<0: row=0\n",
    "     #           player_steps+=(col+row)\n",
    "    return player_steps"
   ]
  },
  {
   "cell_type": "code",
   "execution_count": 264,
   "id": "bfb281f7",
   "metadata": {},
   "outputs": [],
   "source": [
    "def A_Star(file_address):\n",
    "    seen_states=0;\n",
    "    frontier_queue=[]\n",
    "    visited_states={}\n",
    "    initial_state=read_initial_state(file_address)\n",
    "    hp.heappush(frontier_queue,(heuristic(initial_state),0,initial_state))\n",
    "    visited_states[encode(initial_state)]=True\n",
    "    initial_state[\"order\"]=\"\"\n",
    "    initial_state[\"level\"]=0\n",
    "    while(frontier_queue):\n",
    "        cost,order,current_state=hp.heappop(frontier_queue)\n",
    "        visited_states[encode(current_state)]=True\n",
    "        if(is_goal_state(current_state)):\n",
    "            return (current_state[\"order\"],seen_states)\n",
    "        for player in range(len(current_state[\"ploc\"])):\n",
    "            for action in ACTIONS:\n",
    "                seen_states+=1\n",
    "                new_state=move(current_state,player,action)\n",
    "                if(new_state==0):\n",
    "                    continue\n",
    "                if((encode(new_state) in visited_states)):\n",
    "                    continue\n",
    "                new_state[\"order\"]=current_state[\"order\"]+\" \"+str(player)+ACT_DICT[action]\n",
    "                new_state[\"level\"]=current_state[\"level\"]+1\n",
    "                hp.heappush(frontier_queue,(heuristic(new_state)+new_state[\"level\"],seen_states,new_state)) \n",
    "    return 0"
   ]
  },
  {
   "cell_type": "code",
   "execution_count": null,
   "id": "15d5cfca",
   "metadata": {},
   "outputs": [],
   "source": [
    "tic=time.time()\n",
    "A_Star(\"Tests/test1.in\")\n",
    "toc=time.time()\n",
    "time1=toc-tic\n",
    "tic=time.time()\n",
    "A_Star(\"Tests/test1.in\")\n",
    "toc=time.time()\n",
    "time2=toc-tic\n",
    "tic=time.time()\n",
    "result_test1,visited_states1 =A_Star(\"Tests/test1.in\")\n",
    "toc=time.time()\n",
    "time3=toc-tic\n",
    "average_time_A_Star_test1=(time1+time2+time3)/3\n",
    "print(\"Path=\" ,result_test1, \"\\naverage time= \",average_time_A_Star_test1,\"\\nvisited_states=\",visited_states1)"
   ]
  },
  {
   "cell_type": "code",
   "execution_count": null,
   "id": "1ecf8313",
   "metadata": {},
   "outputs": [],
   "source": []
  }
 ],
 "metadata": {
  "kernelspec": {
   "display_name": "Python 3 (ipykernel)",
   "language": "python",
   "name": "python3"
  },
  "language_info": {
   "codemirror_mode": {
    "name": "ipython",
    "version": 3
   },
   "file_extension": ".py",
   "mimetype": "text/x-python",
   "name": "python",
   "nbconvert_exporter": "python",
   "pygments_lexer": "ipython3",
   "version": "3.8.10"
  }
 },
 "nbformat": 4,
 "nbformat_minor": 5
}
