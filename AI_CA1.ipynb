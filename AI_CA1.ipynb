{
 "cells": [
  {
   "cell_type": "markdown",
   "id": "53d84cd4",
   "metadata": {},
   "source": [
    "# Search Algorithms"
   ]
  },
  {
   "cell_type": "markdown",
   "id": "d1ff03b3",
   "metadata": {},
   "source": [
    "In this project, the aim is to solve a predefined problem using various search algorithms and compare their qualities. BFS, IDS and A* are the algorithms used for this problem."
   ]
  },
  {
   "cell_type": "markdown",
   "id": "e2238735",
   "metadata": {},
   "source": [
    "## Problem Description"
   ]
  },
  {
   "cell_type": "markdown",
   "id": "5f8b84cd",
   "metadata": {},
   "source": [
    "TBA"
   ]
  },
  {
   "cell_type": "markdown",
   "id": "95f2cec4",
   "metadata": {},
   "source": [
    "## Modeling"
   ]
  },
  {
   "cell_type": "markdown",
   "id": "d58be7f9",
   "metadata": {},
   "source": [
    "At first, the problem should be modeled as a graph so that the search algorithms can be applied to it in future steps. Each node representes one ditinct state of the map. Bellow, the components of the model is explained:\n",
    "\n",
    " - <b>Initial State:</b> The initial state of the map is given as input in this problem, and the player always starts at bottom left corner of the map.\n",
    " \n",
    " \n",
    " - <b>Actions:</b> At each step,one of the players can move either up, down, left or right. However, sometimes the players may be prevented from taking certain actions due to walls and obstacles.\n",
    " \n",
    " \n",
    " - <b>Transition Model:</b> TBA\n",
    " \n",
    " \n",
    " - <b>Goal State:</b> The goal state is when all of the players have reached the top right corner of the map and collected all potions in the map.\n",
    " \n",
    " \n",
    " - <b>Path Cost:</b> TBA\n",
    " "
   ]
  },
  {
   "cell_type": "markdown",
   "id": "39afd0a0",
   "metadata": {},
   "source": [
    "### Model Implementation"
   ]
  },
  {
   "cell_type": "code",
   "execution_count": 1,
   "id": "23c0c18b",
   "metadata": {},
   "outputs": [],
   "source": [
    "PLAYER='P'\n",
    "POTION='M'\n",
    "PILL='D'\n",
    "OBSTACLE='O'"
   ]
  },
  {
   "cell_type": "markdown",
   "id": "f16430b4",
   "metadata": {},
   "source": [
    " - <b>Initiat State:</b>"
   ]
  },
  {
   "cell_type": "code",
   "execution_count": 2,
   "id": "ad634ae0",
   "metadata": {},
   "outputs": [],
   "source": [
    "def read_initial_state(file_name):\n",
    "    file = open(file_name)\n",
    "    row,col=file.readline().split()\n",
    "    potion_count,pill_count=file.readline().split()\n",
    "    initial_map={\"row\": int(row) , \"col\": int(col) , \"potion_count\": int(potion_count), \"ploc\":[]}\n",
    "    for _ in range(int(potion_count)):\n",
    "        x,y=file.readline().split()\n",
    "        initial_map[(int(x),int(y))]=POTION\n",
    "    for _ in range(int(pill_count)):\n",
    "        x,y=file.readline().split()\n",
    "        initial_map[(int(x),int(y))]=PILL\n",
    "    obstacle_count=file.readline()\n",
    "    for _ in range(int(obstacle_count)):\n",
    "        x,y=file.readline().split()\n",
    "        initial_map[(int(x),int(y))]=OBSTACLE\n",
    "    initial_map[\"ploc\"].append((0,0))\n",
    "    return initial_map"
   ]
  },
  {
   "cell_type": "markdown",
   "id": "a9c915aa",
   "metadata": {},
   "source": [
    " - <b>Actions:</b>"
   ]
  },
  {
   "cell_type": "code",
   "execution_count": 3,
   "id": "f00eafab",
   "metadata": {},
   "outputs": [],
   "source": [
    "UP=(1,0)\n",
    "DOWN=(-1,0)\n",
    "RIGHT=(0,1)\n",
    "LEFT=(0,-1)\n",
    "ACTIONS=[UP,DOWN,LEFT,RIGHT]\n",
    "ACT_DICT={UP:\"U\",DOWN:\"D\",RIGHT:\"R\",LEFT:\"L\"}"
   ]
  },
  {
   "cell_type": "markdown",
   "id": "812605f2",
   "metadata": {},
   "source": [
    " - <b>Transition Model:</b>"
   ]
  },
  {
   "cell_type": "code",
   "execution_count": 4,
   "id": "0ade879b",
   "metadata": {},
   "outputs": [],
   "source": [
    "import copy as cp\n",
    "def not_in_range(loc,loc_range):\n",
    "    return loc[0]>=loc_range[0] or loc[1]>=loc_range[1] or loc[0]<0 or loc[1]<0\n",
    "    \n",
    "\n",
    "def move(current_state,player_number,direction):\n",
    "    current_state=cp.deepcopy(current_state)\n",
    "    current_location=current_state[\"ploc\"][player_number]\n",
    "    future_location=(current_location[0]+direction[0],current_location[1]+direction[1])\n",
    "    if(future_location in current_state):\n",
    "        if(current_state[future_location]==POTION):\n",
    "            current_state[\"potion_count\"]-=1;\n",
    "        elif(current_state[future_location]==PILL):\n",
    "            current_state[\"ploc\"].append((current_state[\"row\"]-1,0))\n",
    "        elif(current_state[future_location]==OBSTACLE):\n",
    "            return 0\n",
    "    elif(not_in_range(future_location,(current_state[\"row\"],current_state[\"col\"]))):\n",
    "        return 0\n",
    "    current_location=current_state[\"ploc\"][player_number]=future_location\n",
    "    if(current_location in current_state):\n",
    "        del current_state[current_location]\n",
    "    return current_state"
   ]
  },
  {
   "cell_type": "code",
   "execution_count": 5,
   "id": "1b958cd1",
   "metadata": {},
   "outputs": [],
   "source": [
    "def is_goal_state(state):\n",
    "    for loc in state[\"ploc\"]:\n",
    "        if(loc!=(state[\"row\"]-1,state[\"col\"]-1)):\n",
    "            return False\n",
    "    if(state[\"potion_count\"]==0):\n",
    "        return True\n",
    "    else:\n",
    "        return False"
   ]
  },
  {
   "cell_type": "code",
   "execution_count": 6,
   "id": "2365f6bf",
   "metadata": {},
   "outputs": [
    {
     "name": "stdout",
     "output_type": "stream",
     "text": [
      "{'row': 4, 'col': 4, 'potion_count': 1, 'ploc': [(1, 3), (3, 0)], (2, 0): 'M', (1, 2): 'O'}\n"
     ]
    }
   ],
   "source": [
    "import copy as cp\n",
    "c=read_initial_state(\"Tests/test1.in\")\n",
    "d=cp.deepcopy(c)\n",
    "d=move(cp.deepcopy(d),0,(0,1))\n",
    "d=move(cp.deepcopy(d),0,(0,1))\n",
    "d=move(cp.deepcopy(d),0,(0,1))\n",
    "d=move(cp.deepcopy(d),0,(1,0))\n",
    "print(d)"
   ]
  },
  {
   "cell_type": "markdown",
   "id": "db2979ac",
   "metadata": {},
   "source": [
    "# BFS"
   ]
  },
  {
   "cell_type": "markdown",
   "id": "a613857d",
   "metadata": {},
   "source": [
    "Explainations TBA"
   ]
  },
  {
   "cell_type": "code",
   "execution_count": 142,
   "id": "2f715ee7",
   "metadata": {},
   "outputs": [],
   "source": [
    "def encode(state):\n",
    "    encoded={}\n",
    "    for player in range(len(state[\"ploc\"])):\n",
    "        encoded[player]=state[\"ploc\"][player]\n",
    "    encoded[\"potion_count\"]=state[\"potion_count\"]\n",
    "    return tuple(encoded.items())\n",
    "\n",
    "def BFS(file_address):\n",
    "    i=0;\n",
    "    frontier_queue=[]\n",
    "    visited_states={}\n",
    "    frontier_queue.append(read_initial_state(file_address))\n",
    "    visited_states[encode(frontier_queue[0])]=True\n",
    "    frontier_queue[0][\"order\"]=\"\"\n",
    "    while(frontier_queue):\n",
    "        current_state=frontier_queue.pop(0)\n",
    "        for player in range(len(current_state[\"ploc\"])):\n",
    "            for action in ACTIONS:\n",
    "                new_state=move(current_state,player,action)\n",
    "                if(new_state==0):\n",
    "                    continue\n",
    "                if((encode(new_state) in visited_states)):\n",
    "                    continue\n",
    "                visited_states[encode(new_state)]=True\n",
    "                new_state[\"order\"]=current_state[\"order\"]+\" \"+str(player)+ACT_DICT[action]\n",
    "                if(is_goal_state(new_state)):\n",
    "                    return new_state[\"order\"]\n",
    "                frontier_queue.append(new_state) \n",
    "    return 0"
   ]
  },
  {
   "cell_type": "code",
   "execution_count": 143,
   "id": "b3a92f55",
   "metadata": {},
   "outputs": [
    {
     "name": "stdout",
     "output_type": "stream",
     "text": [
      " 0U 0U 0R 0R 0D 0R 0R 0R 0U 0U 0U 0U 1R 1R 1R 1D 1U 1R 1R\n"
     ]
    }
   ],
   "source": [
    "print(BFS(\"Tests/test3.in\"))"
   ]
  },
  {
   "cell_type": "markdown",
   "id": "846d2ef5",
   "metadata": {},
   "source": [
    "# IDS"
   ]
  },
  {
   "cell_type": "markdown",
   "id": "c1ddf11b",
   "metadata": {},
   "source": [
    "TBA"
   ]
  },
  {
   "cell_type": "code",
   "execution_count": 140,
   "id": "427d6eb1",
   "metadata": {},
   "outputs": [],
   "source": [
    "def DFS(initial_state,max_level):\n",
    "    i=0;\n",
    "    frontier_queue=[]\n",
    "    visited_states={}\n",
    "    frontier_queue.append([0,initial_state])\n",
    "    #visited_states[encode(frontier_queue[0])]=1\n",
    "    initial_state[\"order\"]=\"\"\n",
    "    while(frontier_queue):\n",
    "        added_level,current_state=frontier_queue.pop()\n",
    "        if((encode(current_state) in visited_states)):\n",
    "            if(visited_states[encode(current_state)]<=added_level):\n",
    "                continue\n",
    "        visited_states[encode(current_state)]=added_level\n",
    "        for player in range(len(current_state[\"ploc\"])):\n",
    "            for action in ACTIONS:\n",
    "                new_state=move(current_state,player,action)\n",
    "                if(new_state==0):\n",
    "                    continue\n",
    "                new_state[\"order\"]=current_state[\"order\"]+\" \"+str(player)+ACT_DICT[action]\n",
    "                if(is_goal_state(new_state)):\n",
    "                    return new_state[\"order\"]\n",
    "                if(added_level+1<max_level):\n",
    "                    frontier_queue.append([added_level+1,new_state]) \n",
    "    return 0\n",
    "def IDS(file_address):\n",
    "    level=1\n",
    "    start_state=read_initial_state(file_address)\n",
    "    start_state[\"order\"]=\"\"\n",
    "    res=DFS(start_state,level)\n",
    "    while res==0:\n",
    "        #print(level)\n",
    "        level+=1\n",
    "        res=DFS(start_state,level)\n",
    "    return res"
   ]
  },
  {
   "cell_type": "code",
   "execution_count": 141,
   "id": "58f3d457",
   "metadata": {
    "scrolled": true
   },
   "outputs": [
    {
     "name": "stdout",
     "output_type": "stream",
     "text": [
      " 0R 1D 1R 1R 1R 0R 1U 0R 0U 0U 0U\n"
     ]
    }
   ],
   "source": [
    "print(IDS(\"Tests/test1.in\"))"
   ]
  },
  {
   "cell_type": "markdown",
   "id": "e3781e5d",
   "metadata": {},
   "source": [
    "# A*"
   ]
  },
  {
   "cell_type": "markdown",
   "id": "db63672e",
   "metadata": {},
   "source": [
    "TBA"
   ]
  },
  {
   "cell_type": "code",
   "execution_count": null,
   "id": "6aaba8c4",
   "metadata": {},
   "outputs": [],
   "source": [
    "heuristic(state){\n",
    "    player_steps=0\n",
    "    min_row=state[\"row\"]-1\n",
    "    min_col=state[\"col\"]-1\n",
    "    col=min_col\n",
    "    row=min_row\n",
    "    for loc in state[\"ploc\"]:\n",
    "        player_steps=row-loc[0]+col-loc[1]\n",
    "    for key,val in state.items():\n",
    "        if (type(key)==tuple):\n",
    "            \n",
    "}"
   ]
  }
 ],
 "metadata": {
  "kernelspec": {
   "display_name": "Python 3 (ipykernel)",
   "language": "python",
   "name": "python3"
  },
  "language_info": {
   "codemirror_mode": {
    "name": "ipython",
    "version": 3
   },
   "file_extension": ".py",
   "mimetype": "text/x-python",
   "name": "python",
   "nbconvert_exporter": "python",
   "pygments_lexer": "ipython3",
   "version": "3.8.10"
  }
 },
 "nbformat": 4,
 "nbformat_minor": 5
}
