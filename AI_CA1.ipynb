{
 "cells": [
  {
   "cell_type": "markdown",
   "id": "53d84cd4",
   "metadata": {},
   "source": [
    "# Search Algorithms"
   ]
  },
  {
   "cell_type": "markdown",
   "id": "61346760",
   "metadata": {},
   "source": [
    "In this project, the aim is to solve a predefined problem using various search algorithms and compare their qualities. BFS, IDS and A* are the algorithms used for this problem."
   ]
  },
  {
   "cell_type": "markdown",
   "id": "7d36be6b",
   "metadata": {},
   "source": [
    "## Problem Description"
   ]
  },
  {
   "cell_type": "markdown",
   "id": "2ae8fe28",
   "metadata": {},
   "source": [
    "TBA"
   ]
  },
  {
   "cell_type": "markdown",
   "id": "72f87476",
   "metadata": {},
   "source": [
    "## Modeling"
   ]
  },
  {
   "cell_type": "markdown",
   "id": "99ec78af",
   "metadata": {},
   "source": [
    "At first, the problem should be modeled as a graph so that the search algorithms can be applied to it in future steps. Each node representes one ditinct state of the map. Bellow, the components of the model is explained:\n",
    "\n",
    " - <b>Initial State:</b> The initial state of the map is given as input in this problem, and the player always starts at bottom left corner of the map.\n",
    " \n",
    " \n",
    " - <b>Actions:</b> At each step,one of the players can move either up, down, left or right. However, sometimes the players may be prevented from taking certain actions due to walls and obstacles.\n",
    " \n",
    " \n",
    " - <b>Transition Model:</b> TBA\n",
    " \n",
    " \n",
    " - <b>Goal State:</b> The goal state is when all of the players have reached the top right corner of the map and collected all potions in the map.\n",
    " \n",
    " \n",
    " - <b>Path Cost:</b> TBA\n",
    " "
   ]
  },
  {
   "cell_type": "markdown",
   "id": "8bad0514",
   "metadata": {},
   "source": [
    "### Model Implementation"
   ]
  },
  {
   "cell_type": "code",
   "execution_count": 1,
   "id": "296897a8",
   "metadata": {},
   "outputs": [],
   "source": [
    "PLAYER='P'\n",
    "POTION='M'\n",
    "PILL='D'\n",
    "OBSTACLE='O'"
   ]
  },
  {
   "cell_type": "markdown",
   "id": "5952cfd2",
   "metadata": {},
   "source": [
    " - <b>Initiat State:</b>"
   ]
  },
  {
   "cell_type": "code",
   "execution_count": 2,
   "id": "f84996d6",
   "metadata": {},
   "outputs": [],
   "source": [
    "def read_initial_state(file_name):\n",
    "    file = open(file_name)\n",
    "    row,col=file.readline().split()\n",
    "    potion_count,pill_count=file.readline().split()\n",
    "    initial_map={\"row\": int(row) , \"col\": int(col) , \"potion_count\": int(potion_count), \"ploc\":[]}\n",
    "    for _ in range(int(potion_count)):\n",
    "        x,y=file.readline().split()\n",
    "        initial_map[(int(x),int(y))]=POTION\n",
    "    for _ in range(int(pill_count)):\n",
    "        x,y=file.readline().split()\n",
    "        initial_map[(int(x),int(y))]=PILL\n",
    "    obstacle_count=file.readline()\n",
    "    for _ in range(int(obstacle_count)):\n",
    "        x,y=file.readline().split()\n",
    "        initial_map[(int(x),int(y))]=OBSTACLE\n",
    "    initial_map[\"ploc\"].append((0,0))\n",
    "    return initial_map"
   ]
  },
  {
   "cell_type": "markdown",
   "id": "3fe468f2",
   "metadata": {},
   "source": [
    " - <b>Actions:</b>"
   ]
  },
  {
   "cell_type": "code",
   "execution_count": 12,
   "id": "60190094",
   "metadata": {},
   "outputs": [],
   "source": [
    "UP=(1,0)\n",
    "DOWN=(-1,0)\n",
    "RIGHT=(0,1)\n",
    "LEFT=(0,-1)\n",
    "ACTIONS=[UP,DOWN,LEFT,RIGHT]"
   ]
  },
  {
   "cell_type": "markdown",
   "id": "a61475f0",
   "metadata": {},
   "source": [
    " - <b>Transition Model:</b>"
   ]
  },
  {
   "cell_type": "code",
   "execution_count": 33,
   "id": "44acb25f",
   "metadata": {},
   "outputs": [],
   "source": [
    "import copy as cp\n",
    "def not_in_range(loc,loc_range):\n",
    "    return loc[0]>=loc_range[0] or loc[1]>=loc_range[1] or loc[0]<0 or loc[1]<0\n",
    "    \n",
    "\n",
    "def move(current_state,player_number,direction):\n",
    "    current_state=cp.deepcopy(current_state)\n",
    "    current_location=current_state[\"ploc\"][player_number]\n",
    "    future_location=(current_location[0]+direction[0],current_location[1]+direction[1])\n",
    "    if(future_location in current_state):\n",
    "        if(current_state[future_location]==POTION):\n",
    "            current_state[\"potion_count\"]-=1;\n",
    "        elif(current_state[future_location]==PILL):\n",
    "            current_state[\"ploc\"].append((0,0))\n",
    "        elif(current_state[future_location]==OBSTACLE):\n",
    "            return 0\n",
    "    elif(not_in_range(future_location,(current_state[\"row\"],current_state[\"col\"]))):\n",
    "        return 0\n",
    "    current_location=current_state[\"ploc\"][player_number]=future_location\n",
    "    if(current_location in current_state):\n",
    "        del current_state[current_location]\n",
    "    return current_state"
   ]
  },
  {
   "cell_type": "code",
   "execution_count": 21,
   "id": "2c85ecbe",
   "metadata": {},
   "outputs": [],
   "source": [
    "def is_goal_state(state):\n",
    "    for loc in state[\"ploc\"]:\n",
    "        if(loc!=(state[\"row\"]-1,state[\"col\"]-1)):\n",
    "            return False\n",
    "    if(state[\"potion_count\"]==0):\n",
    "        return True\n",
    "    else:\n",
    "        return False"
   ]
  },
  {
   "cell_type": "code",
   "execution_count": 6,
   "id": "8add44cb",
   "metadata": {},
   "outputs": [
    {
     "name": "stdout",
     "output_type": "stream",
     "text": [
      "False\n",
      "{'row': 4, 'col': 4, 'potion_count': 2, 'ploc': [(0, 0)], (0, 2): 'M', (2, 0): 'M', (0, 1): 'D', (1, 2): 'O'} {'col': 4, 'potion_count': 2, 'ploc': [(0, 0)], (0, 2): 'M', (2, 0): 'M', (0, 1): 'D', (1, 2): 'O'}\n"
     ]
    }
   ],
   "source": [
    "d=c.copy()\n",
    "del d[\"row\"]\n",
    "print(c==d)\n",
    "print(c,d)"
   ]
  },
  {
   "cell_type": "code",
   "execution_count": 9,
   "id": "567c647e",
   "metadata": {},
   "outputs": [
    {
     "name": "stdout",
     "output_type": "stream",
     "text": [
      "{'row': 4, 'col': 4, 'potion_count': 1, 'ploc': [(1, 3), (0, 0)], (2, 0): 'M', (1, 2): 'O'}\n"
     ]
    }
   ],
   "source": [
    "import copy as cp\n",
    "c=read_initial_state(\"Tests/test1.in\")\n",
    "d=cp.deepcopy(c)\n",
    "d=move(cp.deepcopy(d),0,(0,1))\n",
    "d=move(cp.deepcopy(d),0,(0,1))\n",
    "d=move(cp.deepcopy(d),0,(0,1))\n",
    "d=move(cp.deepcopy(d),0,(1,0))\n",
    "print(d)"
   ]
  },
  {
   "cell_type": "markdown",
   "id": "a9ad994f",
   "metadata": {},
   "source": [
    "# BFS"
   ]
  },
  {
   "cell_type": "markdown",
   "id": "ef417e14",
   "metadata": {},
   "source": [
    "Explainations TBA"
   ]
  },
  {
   "cell_type": "code",
   "execution_count": null,
   "id": "6da95ed7",
   "metadata": {},
   "outputs": [],
   "source": [
    "def BFS(file_address):\n",
    "    i=0;\n",
    "    frontier_queue=[]\n",
    "    visited_states=[]\n",
    "    order={}\n",
    "    frontier_queue.append(read_initial_state(file_address))\n",
    "    frontier_queue[0][\"order\"]=\"\"\n",
    "    while(frontier_queue):\n",
    "        if(i==3):\n",
    "            break\n",
    "        i++\n",
    "        current_state=frontier_queue.pop()\n",
    "        print(frontier_queue)\n",
    "        if (current_state in visited_states):\n",
    "            continue\n",
    "        visited_states.append(current_state)\n",
    "        for player in range(len(current_state[\"ploc\"])):\n",
    "            for action in ACTIONS:\n",
    "                new_state=move(current_state,player,action)\n",
    "                if(new_state==0 or (new_state in visited_states)):\n",
    "                    continue\n",
    "                new_state[\"order\"]=current_state[\"order\"]+\" \"+str(player)+\"(\"+str(action[0])+\" \"+str(action[1])+\")\"\n",
    "                if(is_goal_state(new_state)):\n",
    "                    return new_state[\"order\"]\n",
    "                frontier_queue.append(new_state) \n",
    "    return 0"
   ]
  },
  {
   "cell_type": "code",
   "execution_count": null,
   "id": "692d74c9",
   "metadata": {},
   "outputs": [],
   "source": [
    "print(BFS(\"Tests/test1.in\"))"
   ]
  },
  {
   "cell_type": "code",
   "execution_count": null,
   "id": "a165a28c",
   "metadata": {},
   "outputs": [],
   "source": []
  },
  {
   "cell_type": "code",
   "execution_count": null,
   "id": "4709bce8",
   "metadata": {},
   "outputs": [],
   "source": []
  }
 ],
 "metadata": {
  "kernelspec": {
   "display_name": "Python 3 (ipykernel)",
   "language": "python",
   "name": "python3"
  },
  "language_info": {
   "codemirror_mode": {
    "name": "ipython",
    "version": 3
   },
   "file_extension": ".py",
   "mimetype": "text/x-python",
   "name": "python",
   "nbconvert_exporter": "python",
   "pygments_lexer": "ipython3",
   "version": "3.8.10"
  }
 },
 "nbformat": 4,
 "nbformat_minor": 5
}
