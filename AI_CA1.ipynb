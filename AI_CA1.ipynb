{
 "cells": [
  {
   "cell_type": "markdown",
   "id": "53d84cd4",
   "metadata": {},
   "source": [
    "# Search Algorithms"
   ]
  },
  {
   "cell_type": "markdown",
   "id": "d1ff03b3",
   "metadata": {},
   "source": [
    "In this project, the aim is to solve a problem using various search algorithms and compare their qualities. BFS, IDS and A* are the algorithms used for this problem."
   ]
  },
  {
   "cell_type": "markdown",
   "id": "e2238735",
   "metadata": {},
   "source": [
    "## Problem Description"
   ]
  },
  {
   "cell_type": "markdown",
   "id": "5f8b84cd",
   "metadata": {},
   "source": [
    "A player starts at location (0,0) of a $n\\times m$ map. some cells are blocked by obstacles. at each steps, the player can choose to move up, down, left or right if its path is not blocked by walls or obstacles. each cell may contain one of the following elements:\n",
    "\n",
    "  - <b>Potion:</b> When player enters a cell with potion, he collects the potion.\n",
    "    \n",
    "    \n",
    "  - <b>Pill:</b> When player enters a cell with pill, he consumes the pill and a new player appears at location (n-1,0). afterwards, only one of the players may move at each step \n",
    "    \n",
    "The goal is to gather all players at location (n-1,m-1) and collect all of the potions in the map."
   ]
  },
  {
   "cell_type": "markdown",
   "id": "95f2cec4",
   "metadata": {},
   "source": [
    "## Modeling"
   ]
  },
  {
   "cell_type": "markdown",
   "id": "d58be7f9",
   "metadata": {},
   "source": [
    "At first, the problem should be modeled as a graph so that the search algorithms can be applied to it in future steps. Each node representes one ditinct state of the map. Bellow, the components of the model is explained:\n",
    "\n",
    " - <b>Initial State:</b> The initial state of the map is given as input in this problem, and the player always starts at bottom left corner of the map.\n",
    " \n",
    " \n",
    " - <b>Actions:</b> At each step,one of the players can move either up, down, left or right. However, sometimes the players may be prevented from taking certain actions due to walls and obstacles.\n",
    " \n",
    " \n",
    " - <b>Transition Model:</b> A state is recognized by this properties: 1- location of each player, 2- remaining potions, 3-location of each component(potion-pill-obstacle..) our transition model takes a state and an action as input and determines the next state properties using the rules described in problem description. if an action is impossible to take, the function returns 0 as output. \n",
    " \n",
    " \n",
    " - <b>Goal State:</b> The goal state is when all of the players have reached the top right corner of the map and collected all potions in the map.\n",
    " \n",
    " \n",
    " - <b>Path Cost:</b> In this problem, the cost of all actions are equal\n",
    " "
   ]
  },
  {
   "cell_type": "markdown",
   "id": "39afd0a0",
   "metadata": {},
   "source": [
    "### Model Implementation"
   ]
  },
  {
   "cell_type": "code",
   "execution_count": 1,
   "id": "23c0c18b",
   "metadata": {},
   "outputs": [],
   "source": [
    "import time\n",
    "import copy as cp\n",
    "import heapq as hp\n",
    "import bisect\n",
    "from collections import deque\n",
    "PLAYER='P'\n",
    "POTION='M'\n",
    "PILL='D'\n",
    "OBSTACLE='O'"
   ]
  },
  {
   "cell_type": "markdown",
   "id": "da41a574",
   "metadata": {},
   "source": [
    "- <b>States:</b> we use dictionary to store the properties of each state. we choose dictionary because of its simplicity and built-in functions\n",
    "\n",
    "<b>note:</b> Even though in was possible to obtain the number of potions by location of each component, we choose to store it separately because is used many times and we want our functions to be optimal."
   ]
  },
  {
   "cell_type": "markdown",
   "id": "f16430b4",
   "metadata": {},
   "source": [
    " - <b>Initiat State:</b>"
   ]
  },
  {
   "cell_type": "code",
   "execution_count": 2,
   "id": "ad634ae0",
   "metadata": {},
   "outputs": [],
   "source": [
    "def read_initial_state(file_name):\n",
    "    file = open(file_name)\n",
    "    row,col=file.readline().split()\n",
    "    potion_count,pill_count=file.readline().split()\n",
    "    initial_map={\"row\": int(row) , \"col\": int(col) , \"potion_count\": int(potion_count), \"ploc\":[]}\n",
    "    for _ in range(int(potion_count)):\n",
    "        x,y=file.readline().split()\n",
    "        initial_map[(int(x),int(y))]=POTION\n",
    "    for _ in range(int(pill_count)):\n",
    "        x,y=file.readline().split()\n",
    "        initial_map[(int(x),int(y))]=PILL\n",
    "    obstacle_count=file.readline()\n",
    "    for _ in range(int(obstacle_count)):\n",
    "        x,y=file.readline().split()\n",
    "        initial_map[(int(x),int(y))]=OBSTACLE\n",
    "    initial_map[\"ploc\"].append((0,0))\n",
    "    if((0,0) in initial_map):\n",
    "        if(initial_map[(0,0)]==PILL):\n",
    "            initial_map[\"ploc\"].append((initial_map[\"row\"]-1,0))\n",
    "        elif(initial_map[(0,0)]==POTION):\n",
    "            current_state[\"potion_count\"]-=1;\n",
    "    return initial_map"
   ]
  },
  {
   "cell_type": "markdown",
   "id": "a9c915aa",
   "metadata": {},
   "source": [
    " - <b>Actions:</b>"
   ]
  },
  {
   "cell_type": "code",
   "execution_count": 3,
   "id": "f00eafab",
   "metadata": {},
   "outputs": [],
   "source": [
    "UP=(1,0)\n",
    "DOWN=(-1,0)\n",
    "RIGHT=(0,1)\n",
    "LEFT=(0,-1)\n",
    "ACTIONS=[RIGHT,UP,DOWN,LEFT]\n",
    "ACT_DICT={UP:\"U\",RIGHT:\"R\",DOWN:\"D\",LEFT:\"L\"}"
   ]
  },
  {
   "cell_type": "markdown",
   "id": "812605f2",
   "metadata": {},
   "source": [
    " - <b>Transition Model:</b>"
   ]
  },
  {
   "cell_type": "code",
   "execution_count": 4,
   "id": "0ade879b",
   "metadata": {},
   "outputs": [],
   "source": [
    "def not_in_range(loc,loc_range):\n",
    "    return loc[0]>=loc_range[0] or loc[1]>=loc_range[1] or loc[0]<0 or loc[1]<0\n",
    "    \n",
    "\n",
    "def move(current_state,player_number,direction):\n",
    "    current_state=cp.deepcopy(current_state)\n",
    "    current_location=current_state[\"ploc\"][player_number]\n",
    "    future_location=(current_location[0]+direction[0],current_location[1]+direction[1])\n",
    "    if(future_location in current_state):\n",
    "        if(current_state[future_location]==POTION):\n",
    "            current_state[\"potion_count\"]-=1;\n",
    "        elif(current_state[future_location]==PILL):\n",
    "            current_state[\"ploc\"].append((current_state[\"row\"]-1,0))\n",
    "        elif(current_state[future_location]==OBSTACLE):\n",
    "            return 0\n",
    "    elif(not_in_range(future_location,(current_state[\"row\"],current_state[\"col\"]))):\n",
    "        return 0\n",
    "    current_location=current_state[\"ploc\"][player_number]=future_location\n",
    "    if(current_location in current_state):\n",
    "        del current_state[current_location]\n",
    "    return current_state"
   ]
  },
  {
   "cell_type": "markdown",
   "id": "20d7d8a2",
   "metadata": {},
   "source": [
    "- <b>Goal State:</b>"
   ]
  },
  {
   "cell_type": "code",
   "execution_count": 5,
   "id": "1b958cd1",
   "metadata": {},
   "outputs": [],
   "source": [
    "def is_goal_state(state):\n",
    "    for loc in state[\"ploc\"]:\n",
    "        if(loc!=(state[\"row\"]-1,state[\"col\"]-1)):\n",
    "            return False\n",
    "    if(state[\"potion_count\"]==0):\n",
    "        return True\n",
    "    else:\n",
    "        return False"
   ]
  },
  {
   "cell_type": "markdown",
   "id": "db2979ac",
   "metadata": {},
   "source": [
    "# Breadth First Search (BFS)"
   ]
  },
  {
   "cell_type": "markdown",
   "id": "a613857d",
   "metadata": {},
   "source": [
    "## Algorithm\n",
    "bellow the BFS algorithm is implemented. a dictionary is used to store explored states because it is faster to check the existance of a key in dictionary. Since a dictionary cannot be used as a key, we define a function \"encode\" that takes an state and turn it into hashable format and returns the hashed dictionary.\n",
    "## Pros and Cons\n",
    "pros:\n",
    " - Always returns the optimal solution\n",
    " \n",
    "cons:\n",
    " - Requires more space than IDS (of order O($b^m$))\n",
    " - Visits more states and is slower than A*(depends on heuristic)"
   ]
  },
  {
   "cell_type": "markdown",
   "id": "8a195e0a",
   "metadata": {},
   "source": [
    "## Implementation"
   ]
  },
  {
   "cell_type": "code",
   "execution_count": 6,
   "id": "2f715ee7",
   "metadata": {},
   "outputs": [],
   "source": [
    "def encode(state):\n",
    "    encoded=state.copy()\n",
    "    encoded.pop(\"ploc\",None)\n",
    "    encoded.pop(\"order\",None)\n",
    "    encoded.pop(\"level\",None)\n",
    "    for player in range(len(state[\"ploc\"])):\n",
    "        encoded[player]=state[\"ploc\"][player]\n",
    "    return hash(tuple(encoded.items()))\n",
    "\n",
    "def BFS(file_address):\n",
    "    total_visited_states=1;\n",
    "    frontier_queue=deque()\n",
    "    visited_states=set()\n",
    "    frontier_queue.append(read_initial_state(file_address))\n",
    "    frontier_queue[0][\"order\"]=\"\"\n",
    "    while(frontier_queue):\n",
    "        current_state=frontier_queue.popleft()\n",
    "        if((encode(current_state) in visited_states)):\n",
    "            continue\n",
    "        visited_states.add(encode(current_state))\n",
    "        for player in range(len(current_state[\"ploc\"])):\n",
    "            for action in ACTIONS:\n",
    "                new_state=move(current_state,player,action)\n",
    "                if(new_state==0):\n",
    "                    continue\n",
    "                total_visited_states+=1\n",
    "                new_state[\"order\"]=current_state[\"order\"]+\" \"+str(player)+ACT_DICT[action]\n",
    "                if(is_goal_state(new_state)):\n",
    "                    return (new_state[\"order\"],total_visited_states)\n",
    "                frontier_queue.append(new_state) \n",
    "    return (0,0)"
   ]
  },
  {
   "cell_type": "markdown",
   "id": "668a61cc",
   "metadata": {},
   "source": [
    "## Tests"
   ]
  },
  {
   "cell_type": "code",
   "execution_count": 7,
   "id": "b3a92f55",
   "metadata": {},
   "outputs": [
    {
     "name": "stdout",
     "output_type": "stream",
     "text": [
      "Path=  0R 0R 0R 0U 0U 0U 1D 1R 1R 1R 1U \n",
      "Path len =  11 \n",
      "average time=  0.09492031733194987 \n",
      "visited_states= 3535\n"
     ]
    }
   ],
   "source": [
    "tic=time.time()\n",
    "BFS(\"Tests/test1.in\")\n",
    "toc=time.time()\n",
    "time1=toc-tic\n",
    "tic=time.time()\n",
    "BFS(\"Tests/test1.in\")\n",
    "toc=time.time()\n",
    "time2=toc-tic\n",
    "tic=time.time()\n",
    "result_test1,visited_states1 =BFS(\"Tests/test1.in\")\n",
    "toc=time.time()\n",
    "time3=toc-tic\n",
    "average_time_BFS_test1=(time1+time2+time3)/3\n",
    "print(\"Path=\" ,result_test1, \"\\nPath len = \",len(result_test1.split()) ,\"\\naverage time= \",average_time_BFS_test1,\"\\nvisited_states=\",visited_states1)"
   ]
  },
  {
   "cell_type": "code",
   "execution_count": 8,
   "id": "9d4cd6a1",
   "metadata": {},
   "outputs": [
    {
     "name": "stdout",
     "output_type": "stream",
     "text": [
      "26.667701721191406\n",
      "Path=  0R 0R 0U 0U 0R 0U 1D 1R 1R 1R 1U \n",
      "Path len =  11 \n",
      "average time=  25.555316130320232 \n",
      "visited_states= 634400\n"
     ]
    }
   ],
   "source": [
    "tic=time.time()\n",
    "BFS(\"Tests/test2.in\")\n",
    "toc=time.time()\n",
    "time1=toc-tic\n",
    "tic=time.time()\n",
    "BFS(\"Tests/test2.in\")\n",
    "toc=time.time()\n",
    "time2=toc-tic\n",
    "tic=time.time()\n",
    "result_test2,visited_states2=BFS(\"Tests/test2.in\")\n",
    "toc=time.time()\n",
    "time3=toc-tic\n",
    "print(time3)\n",
    "average_time_BFS_test2=(time1+time2+time3)/3\n",
    "print(\"Path=\" ,result_test2, \"\\nPath len = \",len(result_test2.split()) ,\"\\naverage time= \",average_time_BFS_test2,\"\\nvisited_states=\",visited_states2)"
   ]
  },
  {
   "cell_type": "code",
   "execution_count": 9,
   "id": "9beb34fe",
   "metadata": {},
   "outputs": [
    {
     "name": "stdout",
     "output_type": "stream",
     "text": [
      "24.25251817703247\n",
      "23.89982008934021\n",
      "23.68352246284485\n",
      "Path=  0U 0U 0R 0R 0D 0R 0R 0R 0U 0U 0U 0U 1R 1R 1R 1D 1R 1R 1U \n",
      "Path len =  19 \n",
      "average time=  23.945286909739178 \n",
      "visited_states= 553736\n"
     ]
    }
   ],
   "source": [
    "tic=time.time()\n",
    "BFS(\"Tests/test3.in\")\n",
    "toc=time.time()\n",
    "time1=toc-tic\n",
    "print(time1)\n",
    "tic=time.time()\n",
    "BFS(\"Tests/test3.in\")\n",
    "toc=time.time()\n",
    "time2=toc-tic\n",
    "print(time2)\n",
    "tic=time.time()\n",
    "result_test3,visited_states3=BFS(\"Tests/test3.in\")\n",
    "toc=time.time()\n",
    "time3=toc-tic\n",
    "print(time3)\n",
    "average_time_BFS_test3=(time1+time2+time3)/3\n",
    "print(\"Path=\" ,result_test3, \"\\nPath len = \",len(result_test3.split()) ,\"\\naverage time= \",average_time_BFS_test3,\"\\nvisited_states=\",visited_states3)"
   ]
  },
  {
   "cell_type": "markdown",
   "id": "3ecb1ae6",
   "metadata": {},
   "source": [
    "## Overall Results\n",
    "|property|test1|test2|test3|\n",
    "|:-:|:---:|:---:|:---:|\n",
    "|**Time**          |95ms|25.5s|24s|\n",
    "|**States Visited**|3535|634400|553736|\n",
    "|**Path Depth** |11|11|19|"
   ]
  },
  {
   "cell_type": "markdown",
   "id": "846d2ef5",
   "metadata": {},
   "source": [
    "# Iterative Deepening Search (IDS)"
   ]
  },
  {
   "cell_type": "markdown",
   "id": "c1ddf11b",
   "metadata": {},
   "source": [
    "## Algorithm\n",
    "bellow the IDS algorithm is implemented. \"encode\" function from BFS is used here as well. the IDS functions uses DFS as a subroutine, it runs DFA but specifies the max depth DFS should explore and starting from 1, increases the depth after each run untill goal state is reached  \n",
    "## Pros and Cons\n",
    "pros:\n",
    " - Always returns the optimal solution\n",
    " - Uses less space than A* and BFS\n",
    " \n",
    "cons:\n",
    " - Visits more states and is slower than A*(depends on heuristic)\n",
    " - It is slower than BFS because it visits some states several times, however, it has the same time complexity. "
   ]
  },
  {
   "cell_type": "markdown",
   "id": "143834a8",
   "metadata": {},
   "source": [
    "## Implementation"
   ]
  },
  {
   "cell_type": "code",
   "execution_count": 10,
   "id": "427d6eb1",
   "metadata": {},
   "outputs": [],
   "source": [
    "def DFS(initial_state,max_level):\n",
    "    total_visited_states=1;\n",
    "    frontier_queue=[]\n",
    "    visited_states={}\n",
    "    frontier_queue.append([0,initial_state])\n",
    "    initial_state[\"order\"]=\"\"\n",
    "    while(frontier_queue):\n",
    "        added_level,current_state=frontier_queue.pop()\n",
    "        if((encode(current_state) in visited_states)):\n",
    "            if(visited_states[encode(current_state)]<=added_level):\n",
    "                continue\n",
    "        visited_states[encode(current_state)]=added_level\n",
    "        for player in range(len(current_state[\"ploc\"])):\n",
    "            for action in ACTIONS:\n",
    "                new_state=move(current_state,player,action)\n",
    "                if(new_state==0):\n",
    "                    continue\n",
    "                new_state[\"order\"]=current_state[\"order\"]+\" \"+str(player)+ACT_DICT[action]\n",
    "                if(is_goal_state(new_state)):\n",
    "                    return (new_state[\"order\"],total_visited_states)\n",
    "                total_visited_states+=1;\n",
    "                if(added_level+1<max_level):\n",
    "                    frontier_queue.append([added_level+1,new_state]) \n",
    "    return (0,total_visited_states)\n",
    "def IDS(file_address):\n",
    "    total_states=0\n",
    "    level=1\n",
    "    start_state=read_initial_state(file_address)\n",
    "    start_state[\"order\"]=\"\"\n",
    "    res,total=DFS(start_state,level)\n",
    "    total_states+=total\n",
    "    while res==0:\n",
    "        level+=1\n",
    "        res,total=DFS(start_state,level)\n",
    "        total_states+=total\n",
    "    return (res,total_states)"
   ]
  },
  {
   "cell_type": "markdown",
   "id": "8eb2b1d2",
   "metadata": {},
   "source": [
    "## Tests"
   ]
  },
  {
   "cell_type": "code",
   "execution_count": 11,
   "id": "58f3d457",
   "metadata": {
    "scrolled": true
   },
   "outputs": [
    {
     "name": "stdout",
     "output_type": "stream",
     "text": [
      "Path=  0R 1D 1U 1R 1R 1R 0R 0R 0U 0U 0U \n",
      "Path len =  11 \n",
      "average time=  0.5442923704783121 \n",
      "visited_states= 21609\n"
     ]
    }
   ],
   "source": [
    "tic=time.time()\n",
    "IDS(\"Tests/test1.in\")\n",
    "toc=time.time()\n",
    "time1=toc-tic\n",
    "tic=time.time()\n",
    "IDS(\"Tests/test1.in\")\n",
    "toc=time.time()\n",
    "time2=toc-tic\n",
    "tic=time.time()\n",
    "result_test1,visited_states1 =IDS(\"Tests/test1.in\")\n",
    "toc=time.time()\n",
    "time3=toc-tic\n",
    "average_time_IDS_test1=(time1+time2+time3)/3\n",
    "print(\"Path=\" ,result_test1, \"\\nPath len = \",len(result_test1.split()) ,\"\\naverage time= \",average_time_IDS_test1,\"\\nvisited_states=\",visited_states1)"
   ]
  },
  {
   "cell_type": "code",
   "execution_count": 12,
   "id": "e1d75419",
   "metadata": {},
   "outputs": [
    {
     "name": "stdout",
     "output_type": "stream",
     "text": [
      "Path=  1D 1R 1R 1U 1R 0R 0R 0U 0U 0U 0R \n",
      "Path len =  11 \n",
      "average time=  68.0701032479604 \n",
      "visited_states= 1768998\n"
     ]
    }
   ],
   "source": [
    "tic=time.time()\n",
    "IDS(\"Tests/test2.in\")\n",
    "toc=time.time()\n",
    "time1=toc-tic\n",
    "tic=time.time()\n",
    "IDS(\"Tests/test2.in\")\n",
    "toc=time.time()\n",
    "time2=toc-tic\n",
    "tic=time.time()\n",
    "result_test2,visited_states2 =IDS(\"Tests/test2.in\")\n",
    "toc=time.time()\n",
    "time3=toc-tic\n",
    "average_time_IDS_test2=(time1+time2+time3)/3\n",
    "print(\"Path=\" ,result_test2, \"\\nPath len = \",len(result_test2.split()) ,\"\\naverage time= \",average_time_IDS_test2,\"\\nvisited_states=\",visited_states2)"
   ]
  },
  {
   "cell_type": "code",
   "execution_count": 13,
   "id": "2c44c11a",
   "metadata": {},
   "outputs": [
    {
     "name": "stdout",
     "output_type": "stream",
     "text": [
      "112.91247177124023\n",
      "Path=  0U 0U 0R 0R 1R 1R 1R 1D 1U 1R 1R 0D 0R 0R 0R 0U 0U 0U 0U \n",
      "Path len =  19 \n",
      "average time=  112.48963658014934 \n",
      "visited_states= 2534691\n"
     ]
    }
   ],
   "source": [
    "tic=time.time()\n",
    "IDS(\"Tests/test3.in\")\n",
    "toc=time.time()\n",
    "time1=toc-tic\n",
    "tic=time.time()\n",
    "IDS(\"Tests/test3.in\")\n",
    "toc=time.time()\n",
    "time2=toc-tic\n",
    "tic=time.time()\n",
    "result_test3,visited_states3=IDS(\"Tests/test3.in\")\n",
    "toc=time.time()\n",
    "time3=toc-tic\n",
    "print(time3)\n",
    "average_time_IDS_test3=(time1+time2+time3)/3\n",
    "print(\"Path=\" ,result_test3, \"\\nPath len = \",len(result_test3.split()) ,\"\\naverage time= \",average_time_IDS_test3,\"\\nvisited_states=\",visited_states3)"
   ]
  },
  {
   "cell_type": "markdown",
   "id": "4cbf0f8d",
   "metadata": {},
   "source": [
    "## Overall Results\n",
    "|property|test1|test2|test3|\n",
    "|:-:|:---:|:---:|:---:|\n",
    "|**Time**          |544ms|68s|112.5s|\n",
    "|**States Visited**|21609|1768998|2534691|\n",
    "|**Path Depth** |11|11|19|"
   ]
  },
  {
   "cell_type": "markdown",
   "id": "bd9b3576",
   "metadata": {},
   "source": [
    "# A*"
   ]
  },
  {
   "cell_type": "markdown",
   "id": "452143f6",
   "metadata": {},
   "source": [
    "## Algorithm\n",
    "bellow the A* algorithm is implemented. the method used to keep the track of visited states is similar to previous parts. For this algorithm, a heap is used to extract the state with minimum cost at each step. the cost of a state is defined as follows:\n",
    "\n",
    "$$f(n)=g(n)+h(n)$$\n",
    "\n",
    "where $h(n)$ is the heuristic function that estimates the cost to reach the goal and $g(n)$ is the cost of reaching n from start state.\n",
    "\n",
    "### heuristic function\n",
    "We need to define a heuristic that gives us a good estimation of the cost of reaching the goal and is also consistent. To find a good heuristic, we must first pay attention to the two properties of a goal state:\n",
    " - **All players should be at location (n-1,m-1)**\n",
    " - **All potions should be collected**\n",
    " \n",
    "if we pay attention to just the first part, we know that $location(final)=(row-1,col-1)$, so we can define the following heuristic:\n",
    "\n",
    "$$h_{distance}(n)=\\sum_{player}d_{Manhattan}(locatin(player),location(final))$$\n",
    "\n",
    "However, this is not a good heuristic because it favours closing the distance to final cell at the cost of leaving the potions behind. so we need to modify it to include the penalty of leaving potions behind.\n",
    "if we show a location as (x,y), we define the following symbols:\n",
    " - **$player_{min x}$**: player with smallest x\n",
    " - **$player_{min y}$**: player with smallest y\n",
    " - **$potion_{min x}$**: potion with smallest x\n",
    " - **$potion_{min y}$**: potion with smallest y\n",
    " - $Positive(x)$: returns x if x is positive, otherwise returns 0\n",
    " \n",
    "then we define the following function(it is not a heuristic):\n",
    "\n",
    "$$h_{potion}(n)=Positive(player_{min x}-potion_{min x})+Positive(player_{min y}-potion_{min y}) $$\n",
    "\n",
    "our final heuristic is:\n",
    "\n",
    "$$h(n)=h_{potion}(n)+h_{distance}(n) $$\n",
    "\n",
    "Now we prove that this heuristic is consistent:\n",
    "take A=current state and C=future state, we know that cost(A to C) is 1.\n",
    "we prove consistency for action sets {Down,Left} and {Up,Right} seprately. notice that since both $h_{distance}(n)$ is distance based and $h_{potion}(n) $ is the sum of one horizontal and one vertical distance and they cannot change simultaneously after one step, if no pill is taken, they increase or decrase by 1 after each action.\n",
    " - **UP or Right:**\n",
    "  - **Pill is taken:**\n",
    "      $$h_{potion}(A)-h_{potion}(C)\\leq Positive(player(A)_{min y}-potion_{min y})\\leq n-1$$\n",
    "      $$h_{distance}(A)- h_{distance}(C)=-(n-2)$$\n",
    "      $$\\rightarrow h(A)-h(C)\\leq 1$$\n",
    "  - **Pill is not taken:**\n",
    "      $$h_{potion}(A)-h_{potion}(C)\\leq 0$$\n",
    "      $$h_{distance}(A)- h_{distance}(C)=1$$\n",
    "      $$\\rightarrow h(A)-h(C)\\leq 1$$\n",
    " - **Down or Left:**\n",
    "  - **Pill is taken:**\n",
    "      $$h_{potion}(A)-h_{potion}(C)\\leq (player(A)_{min y}-potion_{min y})\\leq n-1$$\n",
    "      $$h_{distance}(A)- h_{distance}(C)=-(n)$$\n",
    "      $$\\rightarrow h(A)-h(C)\\leq -1$$\n",
    "  - **Pill is not taken:**\n",
    "      $$h_{potion}(A)-h_{potion}(C)\\leq 1$$\n",
    "      $$h_{distance}(A)- h_{distance}(C)=-1$$\n",
    "      $$\\rightarrow h(A)-h(C)\\leq 0$$\n",
    "      \n",
    "so in all cases, $h(A)-h(C)\\leq cost(A to C)$ and our heuristic is consistent\n",
    "\n",
    "## Pros and Cons\n",
    "pros:\n",
    " - Always returns the optimal solution with a consistent heuristic\n",
    " - Can be very faster and visit less states than BFS and IDS with a good heuristic function\n",
    " \n",
    "cons:\n",
    " - It may be difficult and complicated to find a good heuristic for a problem.\n",
    " - Requires more space than IDS."
   ]
  },
  {
   "cell_type": "markdown",
   "id": "3f8ceaf4",
   "metadata": {},
   "source": [
    "## Implementation"
   ]
  },
  {
   "cell_type": "code",
   "execution_count": 27,
   "id": "9ddd8664",
   "metadata": {},
   "outputs": [],
   "source": [
    "def heuristic(state):\n",
    "    player_steps=0\n",
    "    min_row=state[\"row\"]-1\n",
    "    min_col=state[\"col\"]-1\n",
    "    col=min_col\n",
    "    row=min_row\n",
    "    max_dist_row=0\n",
    "    max_dist_col=0\n",
    "    for loc in state[\"ploc\"]:\n",
    "        player_steps=row-loc[0]+col-loc[1]\n",
    "        if row<loc[0]:min_row=loc[0]\n",
    "        if col<loc[1]:min_col=loc[1]\n",
    "    for key,val in state.items():\n",
    "        if (type(key)==tuple):\n",
    "            if(val==POTION):\n",
    "                row=min_row-key[0]\n",
    "                col=min_col-key[1]\n",
    "                if col>max_dist_col: max_dist_col=col\n",
    "                if row>max_dist_row: max_dist_row=row\n",
    "                \n",
    "    return player_steps+(max_dist_row+max_dist_col)"
   ]
  },
  {
   "cell_type": "code",
   "execution_count": 15,
   "id": "bfb281f7",
   "metadata": {},
   "outputs": [],
   "source": [
    "def A_Star(file_address,alpha=1):\n",
    "    seen_states=0;\n",
    "    frontier_queue=[]\n",
    "    visited_states={}\n",
    "    initial_state=read_initial_state(file_address)\n",
    "    hp.heappush(frontier_queue,(alpha*heuristic(initial_state),0,initial_state))\n",
    "    visited_states[encode(initial_state)]=True\n",
    "    initial_state[\"order\"]=\"\"\n",
    "    initial_state[\"level\"]=0\n",
    "    while(frontier_queue):\n",
    "        cost,order,current_state=hp.heappop(frontier_queue)\n",
    "        visited_states[encode(current_state)]=True\n",
    "        if(is_goal_state(current_state)):\n",
    "            return (current_state[\"order\"],seen_states)\n",
    "        for player in range(len(current_state[\"ploc\"])):\n",
    "            for action in ACTIONS:\n",
    "                seen_states+=1\n",
    "                new_state=move(current_state,player,action)\n",
    "                if(new_state==0):\n",
    "                    continue\n",
    "                if((encode(new_state) in visited_states)):\n",
    "                    continue\n",
    "                new_state[\"order\"]=current_state[\"order\"]+\" \"+str(player)+ACT_DICT[action]\n",
    "                new_state[\"level\"]=current_state[\"level\"]+1\n",
    "                bisect.insort(frontier_queue,(alpha*heuristic(new_state)+new_state[\"level\"],seen_states,new_state)) \n",
    "    return 0"
   ]
  },
  {
   "cell_type": "markdown",
   "id": "b0798b92",
   "metadata": {},
   "source": [
    "## Tests"
   ]
  },
  {
   "cell_type": "code",
   "execution_count": 28,
   "id": "15d5cfca",
   "metadata": {},
   "outputs": [
    {
     "name": "stdout",
     "output_type": "stream",
     "text": [
      "Path=  0R 0R 1D 1R 1R 1R 0R 0U 1U 0U 0U \n",
      "Path len =  11 \n",
      "average time=  0.05764174461364746 \n",
      "visited_states= 3292\n"
     ]
    }
   ],
   "source": [
    "tic=time.time()\n",
    "A_Star(\"Tests/test1.in\")\n",
    "toc=time.time()\n",
    "time1=toc-tic\n",
    "tic=time.time()\n",
    "A_Star(\"Tests/test1.in\")\n",
    "toc=time.time()\n",
    "time2=toc-tic\n",
    "tic=time.time()\n",
    "result_test1,visited_states1 =A_Star(\"Tests/test1.in\")\n",
    "toc=time.time()\n",
    "time3=toc-tic\n",
    "average_time_A_Star_test1=(time1+time2+time3)/3\n",
    "print(\"Path=\" ,result_test1, \"\\nPath len = \",len(result_test1.split()) ,\"\\naverage time= \",average_time_A_Star_test1,\"\\nvisited_states=\",visited_states1)"
   ]
  },
  {
   "cell_type": "code",
   "execution_count": 29,
   "id": "1ecf8313",
   "metadata": {},
   "outputs": [
    {
     "name": "stdout",
     "output_type": "stream",
     "text": [
      "Path=  1D 1R 1R 1U 0R 0R 0U 0U 0U 1R 0R \n",
      "Path len =  11 \n",
      "average time=  2.339558998743693 \n",
      "visited_states= 85440\n"
     ]
    }
   ],
   "source": [
    "tic=time.time()\n",
    "A_Star(\"Tests/test2.in\")\n",
    "toc=time.time()\n",
    "time1=toc-tic\n",
    "tic=time.time()\n",
    "A_Star(\"Tests/test2.in\")\n",
    "toc=time.time()\n",
    "time2=toc-tic\n",
    "tic=time.time()\n",
    "result_test2,visited_states2 =A_Star(\"Tests/test2.in\")\n",
    "toc=time.time()\n",
    "time3=toc-tic\n",
    "average_time_A_Star_test2=(time1+time2+time3)/3\n",
    "print(\"Path=\" ,result_test2,\"\\nPath len = \",len(result_test2.split()) , \"\\naverage time= \",average_time_A_Star_test2,\"\\nvisited_states=\",visited_states2)"
   ]
  },
  {
   "cell_type": "code",
   "execution_count": 30,
   "id": "e73dbff1",
   "metadata": {},
   "outputs": [
    {
     "name": "stdout",
     "output_type": "stream",
     "text": [
      "Path=  0U 0U 0R 0R 1R 0D 1R 0R 1R 0R 0R 0U 1D 0U 1U 1R 0U 0U 1R \n",
      "Path len =  19 \n",
      "average time=  0.3070720036824544 \n",
      "visited_states= 9940\n"
     ]
    }
   ],
   "source": [
    "tic=time.time()\n",
    "A_Star(\"Tests/test3.in\")\n",
    "toc=time.time()\n",
    "time1=toc-tic\n",
    "tic=time.time()\n",
    "A_Star(\"Tests/test3.in\")\n",
    "toc=time.time()\n",
    "time2=toc-tic\n",
    "tic=time.time()\n",
    "result_test3,visited_states3=A_Star(\"Tests/test3.in\")\n",
    "toc=time.time()\n",
    "time3=toc-tic\n",
    "average_time_A_Star_test3=(time1+time2+time3)/3\n",
    "print(\"Path=\" ,result_test3, \"\\nPath len = \",len(result_test3.split()) ,\"\\naverage time= \",average_time_A_Star_test3,\"\\nvisited_states=\",visited_states3)"
   ]
  },
  {
   "cell_type": "markdown",
   "id": "67625c2a",
   "metadata": {},
   "source": [
    "## Overall Results\n",
    "|property|test1|test2|test3|\n",
    "|:-:|:---:|:---:|:---:|\n",
    "|**Time**          |58ms|2.33s|307ms|\n",
    "|**States Visited**|3292|85440|9940|\n",
    "|**Path Depth** |11|11|19|"
   ]
  },
  {
   "cell_type": "markdown",
   "id": "1a9da94c",
   "metadata": {},
   "source": [
    "# Weighted A*"
   ]
  },
  {
   "cell_type": "markdown",
   "id": "e47e0445",
   "metadata": {},
   "source": [
    "We may want to loose optimality to gain more speed. Weighted A* algorithm can be used to do that. It is faster than A* but will not always return the optimal solution. it uses $\\alpha\\times h(n)$ ($\\alpha>1$) instead of $h(n)$ as heuristic, so we may loose consistancy and optimal solution with some $\\alpha$"
   ]
  },
  {
   "cell_type": "markdown",
   "id": "cf07b1a9",
   "metadata": {},
   "source": [
    "## $\\alpha$ = 1.3"
   ]
  },
  {
   "cell_type": "code",
   "execution_count": 31,
   "id": "2bcb4627",
   "metadata": {},
   "outputs": [],
   "source": [
    "alpha=1.3"
   ]
  },
  {
   "cell_type": "code",
   "execution_count": 32,
   "id": "2a5a9ce9",
   "metadata": {},
   "outputs": [
    {
     "name": "stdout",
     "output_type": "stream",
     "text": [
      "Path=  0R 0R 1D 1R 1R 1U 0R 0U 0U 1R 0U \n",
      "Path len =  11 \n",
      "average time=  0.020209868748982746 \n",
      "visited_states= 852\n"
     ]
    }
   ],
   "source": [
    "tic=time.time()\n",
    "A_Star(\"Tests/test1.in\",alpha)\n",
    "toc=time.time()\n",
    "time1=toc-tic\n",
    "tic=time.time()\n",
    "A_Star(\"Tests/test1.in\",alpha)\n",
    "toc=time.time()\n",
    "time2=toc-tic\n",
    "tic=time.time()\n",
    "result_test1,visited_states1 =A_Star(\"Tests/test1.in\",alpha)\n",
    "toc=time.time()\n",
    "time3=toc-tic\n",
    "average_time_A_Star_test1=(time1+time2+time3)/3\n",
    "print(\"Path=\" ,result_test1, \"\\nPath len = \",len(result_test1.split()) ,\"\\naverage time= \",average_time_A_Star_test1,\"\\nvisited_states=\",visited_states1)"
   ]
  },
  {
   "cell_type": "code",
   "execution_count": 33,
   "id": "860b4fba",
   "metadata": {},
   "outputs": [
    {
     "name": "stdout",
     "output_type": "stream",
     "text": [
      "0.2846188545227051\n",
      "Path=  1D 1R 0R 0R 0U 0U 0U 1R 1R 0R 1U \n",
      "Path len =  11 \n",
      "average time=  0.29398004213968915 \n",
      "visited_states= 11668\n"
     ]
    }
   ],
   "source": [
    "tic=time.time()\n",
    "A_Star(\"Tests/test2.in\",alpha)\n",
    "toc=time.time()\n",
    "time1=toc-tic\n",
    "tic=time.time()\n",
    "A_Star(\"Tests/test2.in\",alpha)\n",
    "toc=time.time()\n",
    "time2=toc-tic\n",
    "tic=time.time()\n",
    "result_test2,visited_states2 =A_Star(\"Tests/test2.in\",alpha)\n",
    "toc=time.time()\n",
    "time3=toc-tic\n",
    "print(time3)\n",
    "average_time_A_Star_test2=(time1+time2+time3)/3\n",
    "print(\"Path=\" ,result_test2,\"\\nPath len = \",len(result_test2.split()) , \"\\naverage time= \",average_time_A_Star_test2,\"\\nvisited_states=\",visited_states2)"
   ]
  },
  {
   "cell_type": "code",
   "execution_count": 34,
   "id": "c2e6b9ba",
   "metadata": {},
   "outputs": [
    {
     "name": "stdout",
     "output_type": "stream",
     "text": [
      "Path=  0U 0U 0R 0R 1R 0D 1R 1R 1D 1R 1R 1U 0R 0R 0R 0U 0U 0U 0U \n",
      "Path len =  19 \n",
      "average time=  0.015844027201334637 \n",
      "visited_states= 332\n"
     ]
    }
   ],
   "source": [
    "tic=time.time()\n",
    "A_Star(\"Tests/test3.in\",alpha)\n",
    "toc=time.time()\n",
    "time1=toc-tic\n",
    "tic=time.time()\n",
    "A_Star(\"Tests/test3.in\",alpha)\n",
    "toc=time.time()\n",
    "time2=toc-tic\n",
    "tic=time.time()\n",
    "result_test3,visited_states3=A_Star(\"Tests/test3.in\",alpha)\n",
    "toc=time.time()\n",
    "time3=toc-tic\n",
    "average_time_A_Star_test3=(time1+time2+time3)/3\n",
    "print(\"Path=\" ,result_test3, \"\\nPath len = \",len(result_test3.split()) ,\"\\naverage time= \",average_time_A_Star_test3,\"\\nvisited_states=\",visited_states3)"
   ]
  },
  {
   "cell_type": "markdown",
   "id": "008a6065",
   "metadata": {},
   "source": [
    "## Overall Results\n",
    "||test1|test2|test3|\n",
    "|:-:|:---:|:---:|:---:|\n",
    "|**Time**          |20ms|300ms|16ms|\n",
    "|**States Visited**|852|11668|332|\n",
    "|**Path Depth** |11|11|19|"
   ]
  },
  {
   "cell_type": "markdown",
   "id": "62b2a224",
   "metadata": {},
   "source": [
    "## $\\alpha$ = 5"
   ]
  },
  {
   "cell_type": "code",
   "execution_count": 35,
   "id": "aa18376f",
   "metadata": {},
   "outputs": [],
   "source": [
    "alpha=5"
   ]
  },
  {
   "cell_type": "code",
   "execution_count": 36,
   "id": "bda6088d",
   "metadata": {},
   "outputs": [
    {
     "name": "stdout",
     "output_type": "stream",
     "text": [
      "Path=  0R 0R 1D 1R 1R 1R 1U 0R 0U 0U 0U \n",
      "Path len =  11 \n",
      "average time=  0.0061511993408203125 \n",
      "visited_states= 132\n"
     ]
    }
   ],
   "source": [
    "tic=time.time()\n",
    "A_Star(\"Tests/test1.in\",alpha)\n",
    "toc=time.time()\n",
    "time1=toc-tic\n",
    "tic=time.time()\n",
    "A_Star(\"Tests/test1.in\",alpha)\n",
    "toc=time.time()\n",
    "time2=toc-tic\n",
    "tic=time.time()\n",
    "result_test1,visited_states1 =A_Star(\"Tests/test1.in\",alpha)\n",
    "toc=time.time()\n",
    "time3=toc-tic\n",
    "average_time_A_Star_test1=(time1+time2+time3)/3\n",
    "print(\"Path=\" ,result_test1, \"\\nPath len = \",len(result_test1.split()) ,\"\\naverage time= \",average_time_A_Star_test1,\"\\nvisited_states=\",visited_states1)"
   ]
  },
  {
   "cell_type": "code",
   "execution_count": 37,
   "id": "36edc7cc",
   "metadata": {},
   "outputs": [
    {
     "name": "stdout",
     "output_type": "stream",
     "text": [
      "0.034203290939331055\n",
      "Path=  0U 0U 0R 0R 0D 1R 2R 2R 2R 1R 1R 0U 0U 0R \n",
      "Path len =  14 \n",
      "average time=  0.044819911321004234 \n",
      "visited_states= 1404\n"
     ]
    }
   ],
   "source": [
    "tic=time.time()\n",
    "A_Star(\"Tests/test2.in\",alpha)\n",
    "toc=time.time()\n",
    "time1=toc-tic\n",
    "tic=time.time()\n",
    "A_Star(\"Tests/test2.in\",alpha)\n",
    "toc=time.time()\n",
    "time2=toc-tic\n",
    "tic=time.time()\n",
    "result_test2,visited_states2 =A_Star(\"Tests/test2.in\",alpha)\n",
    "toc=time.time()\n",
    "time3=toc-tic\n",
    "print(time3)\n",
    "average_time_A_Star_test2=(time1+time2+time3)/3\n",
    "print(\"Path=\" ,result_test2,\"\\nPath len = \",len(result_test2.split()) , \"\\naverage time= \",average_time_A_Star_test2,\"\\nvisited_states=\",visited_states2)"
   ]
  },
  {
   "cell_type": "code",
   "execution_count": 38,
   "id": "b420afce",
   "metadata": {},
   "outputs": [
    {
     "name": "stdout",
     "output_type": "stream",
     "text": [
      "Path =  0U 0U 0R 0R 1R 0D 1R 1R 1R 1R 0R 0R 0R 0U 0U 0U 0L 0L 0U 0R 0R \n",
      "Path len =  21 \n",
      "average time =  0.013657728830973307 \n",
      "visited_states =  244\n"
     ]
    }
   ],
   "source": [
    "tic=time.time()\n",
    "A_Star(\"Tests/test3.in\",alpha)\n",
    "toc=time.time()\n",
    "time1=toc-tic\n",
    "tic=time.time()\n",
    "A_Star(\"Tests/test3.in\",alpha)\n",
    "toc=time.time()\n",
    "time2=toc-tic\n",
    "tic=time.time()\n",
    "result_test3,visited_states3=A_Star(\"Tests/test3.in\",alpha)\n",
    "toc=time.time()\n",
    "time3=toc-tic\n",
    "average_time_A_Star_test3=(time1+time2+time3)/3\n",
    "print(\"Path =\" ,result_test3,\"\\nPath len = \",len(result_test3.split()) , \"\\naverage time = \",average_time_A_Star_test3,\"\\nvisited_states = \",visited_states3)"
   ]
  },
  {
   "cell_type": "markdown",
   "id": "be765520",
   "metadata": {},
   "source": [
    "## Overall Results\n",
    "||test1|test2|test3|\n",
    "|:-:|:---:|:---:|:---:|\n",
    "|**Time**          |6ms|45ms|14ms|\n",
    "|**States Visited**|132|1404|244|\n",
    "|**Path Depth** |11|14|21|"
   ]
  },
  {
   "cell_type": "markdown",
   "id": "c474937f",
   "metadata": {},
   "source": [
    "# Conclusion"
   ]
  },
  {
   "cell_type": "markdown",
   "id": "3099ec8f",
   "metadata": {},
   "source": [
    "In general, the algorithm we choose to use depends highly on our situation, BFS is faster than IDS but needs more space. IDS, while it is slower than BFS, uses less space so it is suitable when we have a very limited memory. A star can be faster than BFS and IDS if a good heuristic is choosen, however, finding a good heuristic can be challenging and A star also requires more space than IDS. With Weighted A star , we loose the optimality but get the result way faster than normal A star."
   ]
  },
  {
   "cell_type": "markdown",
   "id": "edda7eb5",
   "metadata": {},
   "source": [
    "Here are the overall results for each test:"
   ]
  },
  {
   "cell_type": "markdown",
   "id": "35963c9b",
   "metadata": {},
   "source": [
    "## - Test1\n",
    "\n"
   ]
  },
  {
   "cell_type": "markdown",
   "id": "c3448336",
   "metadata": {},
   "source": [
    "|**Method**|**Avg Time**|**Path Depth**|**States Visited**|\n",
    "|:-:|:---:|:---:|:---:|\n",
    "|**BFS**          |95ms|11|3535|\n",
    "|**IDS**|544ms|11|21609|\n",
    "|**A_star** |58ms|11|3292|\n",
    "|**Weighted A_star ($\\alpha = 1.3$)** |20ms|11|852|\n",
    "|**Weighted A_star ($\\alpha = 5$)** |6ms|11|132|"
   ]
  },
  {
   "cell_type": "markdown",
   "id": "1d3ade39",
   "metadata": {},
   "source": [
    "## - Test2\n",
    "\n"
   ]
  },
  {
   "cell_type": "markdown",
   "id": "413d3742",
   "metadata": {},
   "source": [
    "|**Method**|**Avg Time**|**Path Depth**|**States Visited**|\n",
    "|:-:|:---:|:---:|:---:|\n",
    "|**BFS**          |25.5s|11|634400|\n",
    "|**IDS**|68s|11|1768998|\n",
    "|**A_star** |2.33s|11|85440|\n",
    "|**Weighted A_star ($\\alpha = 1.3$)** |300ms|11|11668|\n",
    "|**Weighted A_star ($\\alpha = 5$)** |45ms|14|1404|"
   ]
  },
  {
   "cell_type": "markdown",
   "id": "64d656b8",
   "metadata": {},
   "source": [
    "## - Test3\n",
    "\n"
   ]
  },
  {
   "cell_type": "markdown",
   "id": "d6e0f078",
   "metadata": {},
   "source": [
    "|**Method**|**Avg Time**|**Path Depth**|**States Visited**|\n",
    "|:-:|:---:|:---:|:---:|\n",
    "|**BFS**          |24s|19|553736|\n",
    "|**IDS**|112.5s|19|2534691|\n",
    "|**A_star** |307ms|19|9940|\n",
    "|**Weighted A_star ($\\alpha = 1.3$)** |16ms|19|332|\n",
    "|**Weighted A_star ($\\alpha = 5$)** |14ms|21|244|"
   ]
  }
 ],
 "metadata": {
  "kernelspec": {
   "display_name": "Python 3 (ipykernel)",
   "language": "python",
   "name": "python3"
  },
  "language_info": {
   "codemirror_mode": {
    "name": "ipython",
    "version": 3
   },
   "file_extension": ".py",
   "mimetype": "text/x-python",
   "name": "python",
   "nbconvert_exporter": "python",
   "pygments_lexer": "ipython3",
   "version": "3.8.10"
  }
 },
 "nbformat": 4,
 "nbformat_minor": 5
}
